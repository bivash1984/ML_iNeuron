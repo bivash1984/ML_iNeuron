{
 "cells": [
  {
   "cell_type": "markdown",
   "metadata": {},
   "source": [
    "## 1.1. Write a Python Program to implement your own myreduce() function which works exactly like Python's built-in function reduce() "
   ]
  },
  {
   "cell_type": "code",
   "execution_count": 1,
   "metadata": {},
   "outputs": [],
   "source": [
    "# writing my own myreduce() function, which takes two arguments- function and list, and finally returns single output.\n",
    "\n",
    "def myreduce(fn, lst):\n",
    "    \n",
    "    x = lst[0] # getting the first element in the list\n",
    "    for ele in lst[1:]: # iterates over the rest of the elements in the list, starting from second element to the last element\n",
    "        x = fn(x,ele) # calling the function and storing the output\n",
    "    return x # final return of the output\n"
   ]
  },
  {
   "cell_type": "code",
   "execution_count": 2,
   "metadata": {},
   "outputs": [
    {
     "data": {
      "text/plain": [
       "55"
      ]
     },
     "execution_count": 2,
     "metadata": {},
     "output_type": "execute_result"
    }
   ],
   "source": [
    "# verifying addition of list of elements using myreduce() function\n",
    "\n",
    "def my_add(x,y): # summation / addition function\n",
    "    \n",
    "    return (x+y)\n",
    "\n",
    "my_lst = [1,2,3,4,5,6,7,8,9,10]\n",
    "\n",
    "myreduce(my_add, my_lst) # calling myreduce() function"
   ]
  },
  {
   "cell_type": "code",
   "execution_count": 3,
   "metadata": {},
   "outputs": [
    {
     "data": {
      "text/plain": [
       "3628800"
      ]
     },
     "execution_count": 3,
     "metadata": {},
     "output_type": "execute_result"
    }
   ],
   "source": [
    "# verifying multiplication of list of elements using myreduce() function\n",
    "\n",
    "def my_multi(x,y): # multiplication function\n",
    "    \n",
    "    return (x*y)\n",
    "\n",
    "my_lst = [1,2,3,4,5,6,7,8,9,10]\n",
    "\n",
    "myreduce(my_multi, my_lst) # calling myreduce() function"
   ]
  },
  {
   "cell_type": "code",
   "execution_count": 4,
   "metadata": {},
   "outputs": [
    {
     "data": {
      "text/plain": [
       "15"
      ]
     },
     "execution_count": 4,
     "metadata": {},
     "output_type": "execute_result"
    }
   ],
   "source": [
    "# verifying maximum number from a list of elements using myreduce() function\n",
    "\n",
    "def my_max(x,y): # maximum function\n",
    "    \n",
    "    if x>y:\n",
    "        return x\n",
    "    else:\n",
    "        return y\n",
    "\n",
    "my_lst = [1,2,3,4,15,6,7,8,9,10]\n",
    "\n",
    "myreduce(my_max, my_lst) # calling myreduce() function"
   ]
  },
  {
   "cell_type": "markdown",
   "metadata": {},
   "source": [
    "## 1.2. Write a Python program to implement your own myfilter() function which works exactly like Python's built-in function filter() "
   ]
  },
  {
   "cell_type": "code",
   "execution_count": 5,
   "metadata": {},
   "outputs": [],
   "source": [
    "# writing my own myfilter() function, which takes two arguments- function and list, and finally returns list of outputs.\n",
    "\n",
    "def myfilter(fn, lst):\n",
    "    \n",
    "    result_lst = []\n",
    "    for ele in lst:\n",
    "        if fn(ele) == True:\n",
    "          result_lst.append(ele)\n",
    "        else:\n",
    "            pass\n",
    "    return result_lst"
   ]
  },
  {
   "cell_type": "code",
   "execution_count": 6,
   "metadata": {},
   "outputs": [
    {
     "data": {
      "text/plain": [
       "[2, 4, 6, 8, 10, 12, 20]"
      ]
     },
     "execution_count": 6,
     "metadata": {},
     "output_type": "execute_result"
    }
   ],
   "source": [
    "# to find out even numbers from a list of numbers using own myfilter() function\n",
    "def even_check(num):\n",
    "    if num%2 ==0:\n",
    "        return True\n",
    "      \n",
    "my_lst =[1,2,3,4,5,6,7,8, 10, 12, 20, 27, 29]\n",
    "\n",
    "myfilter(even_check,my_lst)"
   ]
  },
  {
   "cell_type": "code",
   "execution_count": 7,
   "metadata": {},
   "outputs": [
    {
     "data": {
      "text/plain": [
       "[1, 4, 87, 6]"
      ]
     },
     "execution_count": 7,
     "metadata": {},
     "output_type": "execute_result"
    }
   ],
   "source": [
    "# to find out positive numbers from a list of numbers using own myfilter() function\n",
    "def positive_check(num):\n",
    "    if num > 0:\n",
    "        return True\n",
    "    \n",
    "my_lst =[-2,1,4,-3,-8,-6,87,6,-6]\n",
    "\n",
    "myfilter(positive_check,my_lst)"
   ]
  },
  {
   "cell_type": "markdown",
   "metadata": {},
   "source": [
    "## 2. Implement List comprehensions to produce the following lists.\n",
    "### Write List comprehensions to produce the following Lists\n",
    "#### ['x', 'xx', 'xxx', 'xxxx', 'y', 'yy', 'yyy', 'yyyy', 'z', 'zz', 'zzz', 'zzzz']\n",
    "#### ['x', 'y', 'z', 'xx', 'yy', 'zz', 'xxx', 'yyy', 'zzz', 'xxxx', 'yyyy', 'zzzz']\n",
    "#### [[2], [3], [4], [3], [4], [5], [4], [5], [6]]\n",
    "#### [[2, 3, 4, 5], [3, 4, 5, 6], [4, 5, 6, 7], [5, 6, 7, 8]] \n",
    "#### [(1, 1), (2, 1), (3, 1), (1, 2), (2, 2), (3, 2), (1, 3), (2, 3), (3, 3)]"
   ]
  },
  {
   "cell_type": "code",
   "execution_count": 8,
   "metadata": {},
   "outputs": [
    {
     "name": "stdout",
     "output_type": "stream",
     "text": [
      "['x', 'xx', 'xxx', 'xxxx', 'y', 'yy', 'yyy', 'yyyy', 'z', 'zz', 'zzz', 'zzzz']\n"
     ]
    }
   ],
   "source": [
    "lst = ['x','y','z']\n",
    "my_lst = [ele*i for ele in lst for i in range(1,5)]\n",
    "print(my_lst)"
   ]
  },
  {
   "cell_type": "code",
   "execution_count": 9,
   "metadata": {},
   "outputs": [
    {
     "name": "stdout",
     "output_type": "stream",
     "text": [
      "['x', 'y', 'z', 'xx', 'yy', 'zz', 'xxx', 'yyy', 'zzz', 'xxxx', 'yyyy', 'zzzz']\n"
     ]
    }
   ],
   "source": [
    "lst2 = ['x','y','z']\n",
    "\n",
    "my_lst2 = [ele*i for i in range(1,5) for ele in lst]\n",
    "print(my_lst2)"
   ]
  },
  {
   "cell_type": "code",
   "execution_count": 10,
   "metadata": {},
   "outputs": [
    {
     "name": "stdout",
     "output_type": "stream",
     "text": [
      "[[2], [3], [4], [3], [4], [5], [4], [5], [6]]\n"
     ]
    }
   ],
   "source": [
    "lst3 = [2,3,4]\n",
    "my_lst3 = [[ele+i] for ele in lst3 for i in range(3)]\n",
    "print(my_lst3)\n"
   ]
  },
  {
   "cell_type": "code",
   "execution_count": 11,
   "metadata": {},
   "outputs": [
    {
     "name": "stdout",
     "output_type": "stream",
     "text": [
      "[[2, 3, 4, 5], [3, 4, 5, 6], [4, 5, 6, 7], [5, 6, 7, 8]]\n"
     ]
    }
   ],
   "source": [
    "lst4 = [2,3,4,5]\n",
    "my_lst4 = [[ele+i for ele in lst4] for i in range(4)]\n",
    "\n",
    "print(my_lst4)"
   ]
  },
  {
   "cell_type": "code",
   "execution_count": 12,
   "metadata": {},
   "outputs": [
    {
     "name": "stdout",
     "output_type": "stream",
     "text": [
      "[(1, 1), (2, 1), (3, 1), (1, 2), (2, 2), (3, 2), (1, 3), (2, 3), (3, 3)]\n"
     ]
    }
   ],
   "source": [
    "lst5 = [1,2,3]\n",
    "my_lst5 = [(j,i) for i in lst5 for j in lst5]\n",
    "print(my_lst5)\n"
   ]
  },
  {
   "cell_type": "code",
   "execution_count": null,
   "metadata": {},
   "outputs": [],
   "source": []
  }
 ],
 "metadata": {
  "kernelspec": {
   "display_name": "Python 3",
   "language": "python",
   "name": "python3"
  },
  "language_info": {
   "codemirror_mode": {
    "name": "ipython",
    "version": 3
   },
   "file_extension": ".py",
   "mimetype": "text/x-python",
   "name": "python",
   "nbconvert_exporter": "python",
   "pygments_lexer": "ipython3",
   "version": "3.7.3"
  }
 },
 "nbformat": 4,
 "nbformat_minor": 2
}
