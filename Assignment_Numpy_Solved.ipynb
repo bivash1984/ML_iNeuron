{
 "cells": [
  {
   "cell_type": "markdown",
   "metadata": {},
   "source": [
    "### Write a function so that the columns of the output matrix are powers of the input vector. \n",
    " \n",
    "### The order of the powers is determined by the increasing boolean argument. Specifically, when increasing is False, the i-th output column is the input vector raised element-wise to the power of N - i - 1. \n",
    " \n",
    "### HINT: Such a matrix with a geometric progression in each row is named for AlexandreTheophile Vandermonde. "
   ]
  },
  {
   "cell_type": "code",
   "execution_count": 13,
   "metadata": {},
   "outputs": [],
   "source": [
    "import numpy as np\n",
    "\n",
    "def vander_matrix(inputvec, N, increasing = False): # this function takes the input of a vector, \n",
    "                                                    #number of output columns and order of the powers of the column\n",
    "    if not increasing:\n",
    "        arry = []\n",
    "        for i in inputvec:\n",
    "            for j in range(N):\n",
    "                arry.append((i**(N-j-1))) # when increasing false generates array\n",
    "        out_matrx =  np.array(arry).reshape(inputvec.size, N) # array converts to matrix and reshape it\n",
    "    elif increasing:\n",
    "        arry = []\n",
    "        for i in inputvec:\n",
    "            for j in range(N):\n",
    "                arry.append((i**(j))) # when increasing true generates array\n",
    "        out_matrx =  np.array(arry).reshape(inputvec.size, N) # array converts to matrix and reshape it\n",
    "    return out_matrx\n",
    "        \n",
    "inputvec = np.array([1,3,5,7,9,11])\n",
    "N = len(inputvec) # if number of output columns are not given it  will generate a square array\n"
   ]
  },
  {
   "cell_type": "code",
   "execution_count": 14,
   "metadata": {},
   "outputs": [
    {
     "name": "stdout",
     "output_type": "stream",
     "text": [
      "Output: Vandermonde matrix of a given vector when #of output colums 3 and increasing = False: \n"
     ]
    },
    {
     "data": {
      "text/plain": [
       "array([[  1,   1,   1],\n",
       "       [  9,   3,   1],\n",
       "       [ 25,   5,   1],\n",
       "       [ 49,   7,   1],\n",
       "       [ 81,   9,   1],\n",
       "       [121,  11,   1]])"
      ]
     },
     "execution_count": 14,
     "metadata": {},
     "output_type": "execute_result"
    }
   ],
   "source": [
    "print('Output: Vandermonde matrix of a given vector when #of output colums 3 and increasing = False: ')\n",
    "vander_matrix(inputvec, 3, False)"
   ]
  },
  {
   "cell_type": "code",
   "execution_count": 15,
   "metadata": {},
   "outputs": [
    {
     "name": "stdout",
     "output_type": "stream",
     "text": [
      "Output: Vandermonde matrix of a given vector when #of output colums 3 and increasing = True: \n"
     ]
    },
    {
     "data": {
      "text/plain": [
       "array([[  1,   1,   1],\n",
       "       [  1,   3,   9],\n",
       "       [  1,   5,  25],\n",
       "       [  1,   7,  49],\n",
       "       [  1,   9,  81],\n",
       "       [  1,  11, 121]])"
      ]
     },
     "execution_count": 15,
     "metadata": {},
     "output_type": "execute_result"
    }
   ],
   "source": [
    "print('Output: Vandermonde matrix of a given vector when #of output colums 3 and increasing = True: ')\n",
    "vander_matrix(inputvec, 3, True)"
   ]
  },
  {
   "cell_type": "code",
   "execution_count": 16,
   "metadata": {},
   "outputs": [
    {
     "name": "stdout",
     "output_type": "stream",
     "text": [
      "Output: Vandermonde matrix of a given vector when #of output colums not given and increasing = True: \n"
     ]
    },
    {
     "data": {
      "text/plain": [
       "array([[     1,      1,      1,      1,      1,      1],\n",
       "       [     1,      3,      9,     27,     81,    243],\n",
       "       [     1,      5,     25,    125,    625,   3125],\n",
       "       [     1,      7,     49,    343,   2401,  16807],\n",
       "       [     1,      9,     81,    729,   6561,  59049],\n",
       "       [     1,     11,    121,   1331,  14641, 161051]])"
      ]
     },
     "execution_count": 16,
     "metadata": {},
     "output_type": "execute_result"
    }
   ],
   "source": [
    "print('Output: Vandermonde matrix of a given vector when #of output colums not given and increasing = True: ')\n",
    "vander_matrix(inputvec, N, True)"
   ]
  },
  {
   "cell_type": "code",
   "execution_count": 17,
   "metadata": {},
   "outputs": [
    {
     "name": "stdout",
     "output_type": "stream",
     "text": [
      "Output: Vandermonde matrix of a given vector when #of output colums not given and increasing = False: \n"
     ]
    },
    {
     "data": {
      "text/plain": [
       "array([[     1,      1,      1,      1,      1,      1],\n",
       "       [   243,     81,     27,      9,      3,      1],\n",
       "       [  3125,    625,    125,     25,      5,      1],\n",
       "       [ 16807,   2401,    343,     49,      7,      1],\n",
       "       [ 59049,   6561,    729,     81,      9,      1],\n",
       "       [161051,  14641,   1331,    121,     11,      1]])"
      ]
     },
     "execution_count": 17,
     "metadata": {},
     "output_type": "execute_result"
    }
   ],
   "source": [
    "print('Output: Vandermonde matrix of a given vector when #of output colums not given and increasing = False: ')\n",
    "vander_matrix(inputvec, N, False)"
   ]
  },
  {
   "cell_type": "markdown",
   "metadata": {},
   "source": [
    "### Problem Statement 2: \n",
    " \n",
    "#### Given a sequence of n values x1, x2, ..., xn and a window size k>0, the k-th moving average of the given sequence is defined as follows: \n",
    "#### The moving average sequence has n-k+1 elements as shown below. \n",
    " \n",
    "#### The moving averages with k=4 of a ten-value sequence (n=10) is shown below \n",
    " \n",
    "#### i 1  2  3  4  5  6  7  8  9 10  ===== == == == == == == == == == ==  Input 10 20 30 40 50 60 70 80 90 100\n",
    "#### y1      25 = (10+20+30+40)/4\n",
    "#### y2      35 = (20+30+40+50)/4\n",
    "#### y3      45 = (30+40+50+60)/4\n",
    "#### y4      55 = (40+50+60+70)/4\n",
    "#### y5      65 = (50+60+70+80)/4\n",
    "#### y6      75 = (60+70+80+90)/4\n",
    "#### y7      85 = (70+80+90+100)/4 \n",
    "\n",
    "#### Thus, the moving average sequence has n-k+1=10-4+1=7 values.\n",
    "\n",
    "### Question: Write a function to find moving average in an array over a window:\n",
    "### Test it over [3, 5, 7, 2, 8, 10, 11, 65, 72, 81, 99, 100, 150] and window of 3."
   ]
  },
  {
   "cell_type": "code",
   "execution_count": 2,
   "metadata": {},
   "outputs": [
    {
     "name": "stdout",
     "output_type": "stream",
     "text": [
      "Moving Average of the Given Array:\n"
     ]
    },
    {
     "data": {
      "text/plain": [
       "array([  5.  ,   4.67,   5.67,   6.67,   9.67,  28.67,  49.33,  72.67,\n",
       "        84.  ,  93.33, 116.33])"
      ]
     },
     "execution_count": 2,
     "metadata": {},
     "output_type": "execute_result"
    }
   ],
   "source": [
    "import numpy as np\n",
    "\n",
    "def moving_average(inarr, size): # takes the input of array and window size\n",
    "    \n",
    "    avg_lst = []\n",
    "    seq_val = len(inarr)-size+1 # calculating the moving average sequence values\n",
    "    for i in range(seq_val): # outer forloop depends on sequence value\n",
    "        lst = inarr[i:(size+i)] # slicing array dynamically   \n",
    "        sum = 0        \n",
    "        for j in range(len(lst)): # inner forloop calculates the moving average\n",
    "            sum += lst[j]\n",
    "        avg_lst.append(sum/size) # moving average values are appended in the empty list avg_lst\n",
    "    return avg_lst\n",
    "        \n",
    "\n",
    "arr = [3, 5, 7, 2, 8, 10, 11, 65, 72, 81, 99, 100, 150] # input array\n",
    "inarr = np.array(arr)\n",
    "size = 3\n",
    "print('Moving Average of the Given Array:')\n",
    "np.array(moving_average(inarr, size)).round(2) # output array\n"
   ]
  },
  {
   "cell_type": "code",
   "execution_count": null,
   "metadata": {},
   "outputs": [],
   "source": []
  }
 ],
 "metadata": {
  "kernelspec": {
   "display_name": "Python 3",
   "language": "python",
   "name": "python3"
  },
  "language_info": {
   "codemirror_mode": {
    "name": "ipython",
    "version": 3
   },
   "file_extension": ".py",
   "mimetype": "text/x-python",
   "name": "python",
   "nbconvert_exporter": "python",
   "pygments_lexer": "ipython3",
   "version": "3.7.3"
  }
 },
 "nbformat": 4,
 "nbformat_minor": 2
}
