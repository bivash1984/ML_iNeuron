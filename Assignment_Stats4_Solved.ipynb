{
 "cells": [
  {
   "cell_type": "markdown",
   "metadata": {},
   "source": [
    "### Problem Statement 1: \n",
    " \n",
    "Is gender independent of education level? A random sample of 395 people were surveyed and each person was asked to report the highest education level they obtained. The data that resulted from the survey is summarized in the following table: \n",
    "\n",
    "\n",
    "| | High School | Bachelors | Master| Ph.d.| Total|\n",
    "| ---- | ---- | ---- | ---|---|---|\n",
    "| Female | 60| 54 | 46|41|201|\n",
    "| Male| 40 | 44 | 53|57|194|\n",
    "|Total|100|98|99|98|395|\n",
    "\n",
    "\n",
    "Question: Are gender and education level dependent at 5% level of significance? In other words, given the data collected above, is there a relationship between the gender of an individual and the level of education that they have obtained? "
   ]
  },
  {
   "cell_type": "code",
   "execution_count": 1,
   "metadata": {},
   "outputs": [
    {
     "name": "stdout",
     "output_type": "stream",
     "text": [
      "Observed table: \n",
      "**************************************************\n",
      "        High School  Bachelors  Master  Ph.d\n",
      "Female           60         54      46    41\n",
      "Male             40         44      53    57\n"
     ]
    }
   ],
   "source": [
    "import pandas as pd\n",
    "\n",
    "# creating view for Observed table\n",
    "\n",
    "edu = {'High School': [60, 40], 'Bachelors': [54, 44], 'Master': [46, 53], 'Ph.d': [41, 57]}\n",
    "df_frq = pd.DataFrame(edu, columns = ['High School', 'Bachelors', 'Master', 'Ph.d'], index = ['Female', 'Male'])\n",
    "print('Observed table: ')\n",
    "print('*' * 50 )\n",
    "print(df_frq)"
   ]
  },
  {
   "cell_type": "code",
   "execution_count": 2,
   "metadata": {},
   "outputs": [],
   "source": [
    "# H0: No relationship between gender and level of education ontained.\n",
    "# H1: There is relationship between gender and level of education ontained.\n",
    "\n",
    "#Now we need to create expected table for the above null hypothesis. Formula -> E = ((row total * column total) / grand total)\n",
    "\n",
    "Obsv_lst = [60, 40, 54, 44, 46, 53, 41, 57]\n",
    "\n",
    "# Total for all combinations\n",
    "grand_Total = sum(Obsv_lst)\n",
    "\n",
    "# Total level of education column wise\n",
    "To_cls = df_frq.sum(axis=0)\n",
    "\n",
    "# Total leader / follower / unclassifiable row wise\n",
    "To_rows = df_frq.sum(axis=1)"
   ]
  },
  {
   "cell_type": "code",
   "execution_count": 3,
   "metadata": {},
   "outputs": [
    {
     "name": "stdout",
     "output_type": "stream",
     "text": [
      "The expected list is:  [50.88607594936709, 49.11392405063291, 49.868354430379746, 48.131645569620254, 50.37721518987342, 48.62278481012658, 49.868354430379746, 48.131645569620254]\n"
     ]
    }
   ],
   "source": [
    "# Now creating the expected list corresponding to the observed list\n",
    "\n",
    "def exp_list(To_cls, To_rows):\n",
    "    Expected_lst = []\n",
    "    for i in range(4):\n",
    "        for j in range(2):\n",
    "            res = (To_cls[i] * To_rows[j]) / grand_Total\n",
    "            Expected_lst.append(res)\n",
    "            \n",
    "    return Expected_lst\n",
    "\n",
    "Expects_lst = exp_list(To_cls, To_rows)\n",
    "print('The expected list is: ', Expects_lst)"
   ]
  },
  {
   "cell_type": "code",
   "execution_count": 4,
   "metadata": {},
   "outputs": [
    {
     "name": "stdout",
     "output_type": "stream",
     "text": [
      "Calculated Chi-Square value is:  8.006066246262538\n"
     ]
    }
   ],
   "source": [
    "import numpy as np\n",
    "\n",
    "# Now applying Chi-Square independence formula on Observed and Expected list\n",
    "\n",
    "Ob_vals = np.array(Obsv_lst) # observed value\n",
    "Ex_vals = np.array(Expects_lst) # expected value\n",
    "\n",
    "def chi_sqr(Ob_vals, Ex_vals):\n",
    "    results = (Ob_vals - Ex_vals)**2 # (O-E)**2\n",
    "    sum_sqr = 0\n",
    "    for ele in range(len(results)):\n",
    "        sum_sqr += (results[ele] / Ex_vals[ele])\n",
    "    return sum_sqr\n",
    "\n",
    "X_sqr = chi_sqr(Ob_vals, Ex_vals)\n",
    "\n",
    "print('Calculated Chi-Square value is: ', X_sqr)"
   ]
  },
  {
   "cell_type": "code",
   "execution_count": 5,
   "metadata": {},
   "outputs": [
    {
     "name": "stdout",
     "output_type": "stream",
     "text": [
      "Critical value of Chi-Square is:  7.814727903251179\n"
     ]
    }
   ],
   "source": [
    "from scipy.stats import chi2\n",
    "\n",
    "# Given significace level ∝ = 5% = 0.05\n",
    "# degree of freedom = (2-1) * (4-1) = 3\n",
    "\n",
    "# prob = 1-0.05 = 0.95\n",
    "p = 0.95\n",
    "dof = 3\n",
    "\n",
    "critical = chi2.ppf(p, dof)\n",
    "print('Critical value of Chi-Square is: ', critical)"
   ]
  },
  {
   "cell_type": "markdown",
   "metadata": {},
   "source": [
    "<font color='blue'>\n",
    "    \n",
    "### Conclusions\n",
    "    \n",
    "The criticial value of Chi-Square is: Χ^2 = 7.81 at 5% level of significance. <br>\n",
    "Our computed value of Chi-Square is: Χ^2 = 8.01 <br>\n",
    "\n",
    "So, computed value falls in rejection region. Hence we reject the Null Hypothesis. <br>\n",
    "Hence there is relationship between gender and level of education ontained at 5% level of significance.\n",
    "\n",
    "    \n",
    "</font>"
   ]
  },
  {
   "cell_type": "markdown",
   "metadata": {},
   "source": [
    "### Problem Statement 2: \n",
    " \n",
    "Using the following data, perform a oneway analysis of variance using α=.05. Write up the results in APA format. \n",
    " \n",
    " \n",
    "[Group1: 51, 45, 33, 45, 67]  [Group2: 23, 43, 23, 43, 45]  [Group3: 56, 76, 74, 87, 56] "
   ]
  },
  {
   "cell_type": "code",
   "execution_count": 6,
   "metadata": {},
   "outputs": [
    {
     "name": "stdout",
     "output_type": "stream",
     "text": [
      "Calculated square deviation for the numbers in group1 is:  [7.839999999999984, 10.240000000000018, 231.04000000000008, 10.240000000000018, 353.4399999999999]\n"
     ]
    }
   ],
   "source": [
    "import math\n",
    "\n",
    "# H0 : The mean is same for all the group\n",
    "# H1 : The mean is not same for all the group\n",
    "\n",
    "# Group1: \n",
    "    \n",
    "group1 = [51, 45, 33, 45, 67]\n",
    "\n",
    "# Calculate mean\n",
    "\n",
    "def mean_gr1(group1):\n",
    "    gr1_mean = sum(group1) / len(group1)\n",
    "    return gr1_mean\n",
    "mean1 = mean_gr1(group1)\n",
    "\n",
    "# Calculate deviation for each number\n",
    "\n",
    "def dev_gr1(group1, mean1):\n",
    "    dev1_lst = []\n",
    "    for num in group1:\n",
    "        dev1 = (num - mean1)\n",
    "        dev1_lst.append(dev1)\n",
    "    return dev1_lst\n",
    "deviatoin_gr1 = dev_gr1(group1, mean1)\n",
    "\n",
    "# Calculate square deviation for each number\n",
    "\n",
    "def sqrDev_gr1(deviatoin_gr1):\n",
    "    sqrDev = []\n",
    "    for num in deviatoin_gr1:\n",
    "        sqr = num **2\n",
    "        sqrDev.append(sqr)\n",
    "    return sqrDev\n",
    "\n",
    "square_dev_gr1 = sqrDev_gr1(deviatoin_gr1)\n",
    "\n",
    "print('Calculated square deviation for the numbers in group1 is: ', square_dev_gr1)"
   ]
  },
  {
   "cell_type": "code",
   "execution_count": 7,
   "metadata": {},
   "outputs": [
    {
     "name": "stdout",
     "output_type": "stream",
     "text": [
      "Calculated square deviation for the numbers in group2 is:  [153.75999999999996, 57.76000000000002, 153.75999999999996, 57.76000000000002, 92.16000000000003]\n"
     ]
    }
   ],
   "source": [
    "import math\n",
    "# Group2: \n",
    "    \n",
    "group2 = [23, 43, 23, 43, 45]\n",
    "\n",
    "# Calculate mean\n",
    "\n",
    "def mean_gr2(group2):\n",
    "    gr2_mean = sum(group2) / len(group2)\n",
    "    return gr2_mean\n",
    "mean2 = mean_gr2(group2)\n",
    "\n",
    "# Calculate deviation for each number\n",
    "\n",
    "def dev_gr2(group2, mean2):\n",
    "    dev2_lst = []\n",
    "    for num in group2:\n",
    "        dev2 = (num - mean2)\n",
    "        dev2_lst.append(dev2)\n",
    "    return dev2_lst\n",
    "deviatoin_gr2 = dev_gr2(group2, mean2)\n",
    "\n",
    "# Calculate square deviation for each number\n",
    "\n",
    "def sqrDev_gr2(deviatoin_gr2):\n",
    "    sqrDev = []\n",
    "    for num in deviatoin_gr2:\n",
    "        sqr = num **2\n",
    "        sqrDev.append(sqr)\n",
    "    return sqrDev\n",
    "\n",
    "square_dev_gr2 = sqrDev_gr2(deviatoin_gr2)\n",
    "\n",
    "print('Calculated square deviation for the numbers in group2 is: ', square_dev_gr2)\n"
   ]
  },
  {
   "cell_type": "code",
   "execution_count": 8,
   "metadata": {},
   "outputs": [
    {
     "name": "stdout",
     "output_type": "stream",
     "text": [
      "Calculated square deviation for the numbers in group3 is:  [190.4399999999999, 38.44000000000003, 17.640000000000025, 295.8400000000001, 190.4399999999999]\n"
     ]
    }
   ],
   "source": [
    "import math\n",
    "# Group3: \n",
    "    \n",
    "group3 = [56, 76, 74, 87, 56]\n",
    "\n",
    "# Calculate mean\n",
    "\n",
    "def mean_gr3(group3):\n",
    "    gr3_mean = sum(group3) / len(group3)\n",
    "    return gr3_mean\n",
    "mean3 = mean_gr3(group3)\n",
    "\n",
    "# Calculate deviation for each number\n",
    "\n",
    "def dev_gr3(group3, mean3):\n",
    "    dev3_lst = []\n",
    "    for num in group3:\n",
    "        dev3 = (num - mean3)\n",
    "        dev3_lst.append(dev3)\n",
    "    return dev3_lst\n",
    "deviatoin_gr3 = dev_gr3(group3, mean3)\n",
    "\n",
    "# Calculate square deviation for each number\n",
    "\n",
    "def sqrDev_gr3(deviatoin_gr3):\n",
    "    sqrDev = []\n",
    "    for num in deviatoin_gr3:\n",
    "        sqr = num **2\n",
    "        sqrDev.append(sqr)\n",
    "    return sqrDev\n",
    "\n",
    "square_dev_gr3 = sqrDev_gr3(deviatoin_gr3)\n",
    "\n",
    "print('Calculated square deviation for the numbers in group3 is: ', square_dev_gr3)\n"
   ]
  },
  {
   "cell_type": "code",
   "execution_count": 9,
   "metadata": {},
   "outputs": [
    {
     "name": "stdout",
     "output_type": "stream",
     "text": [
      "So calculated mean between value is:  1511.4666666666665\n"
     ]
    }
   ],
   "source": [
    "# Now we will calculate summation of square between groups (SS_between) ---\n",
    "# calculate grand mean:\n",
    "grand_mean = (mean1+mean2+mean3) / 3\n",
    "\n",
    "# no of dataset for each group\n",
    "n1 = len(group1)\n",
    "n2 = len(group2)\n",
    "n3 = len(group3)\n",
    "\n",
    "SS_btw = (n1 * ((mean1 - grand_mean)**2)) + (n2 * ((mean2 - grand_mean)**2)) + (n3 * ((mean3 - grand_mean)**2))\n",
    "\n",
    "# now we will calculate mean inbetween ---\n",
    "mean_btw = (SS_btw / 2) # (total no of sample - 1) = 3-1 = 2\n",
    "print('So calculated mean between value is: ', mean_btw)"
   ]
  },
  {
   "cell_type": "code",
   "execution_count": 10,
   "metadata": {},
   "outputs": [
    {
     "name": "stdout",
     "output_type": "stream",
     "text": [
      "So calculated mean within value is:  155.06666666666666\n"
     ]
    }
   ],
   "source": [
    "# Now we will calculate summation of square within groups (SS_within) ---\n",
    "# Group1\n",
    "ss_gr1 = sum(square_dev_gr1) # sum of the square deviation for the group\n",
    "# Group2\n",
    "ss_gr2 = sum(square_dev_gr2)\n",
    "# Group3\n",
    "ss_gr3 = sum(square_dev_gr3)\n",
    "\n",
    "SS_within = (ss_gr1 + ss_gr2 + ss_gr3)\n",
    "\n",
    "# now we will calculate mean within ---\n",
    "mean_within = (SS_within / 12) # total no of dataset = 5*3 = 15, total sample = 3, 15-2 = 12 = DOF\n",
    "print('So calculated mean within value is: ', mean_within)"
   ]
  },
  {
   "cell_type": "code",
   "execution_count": 11,
   "metadata": {},
   "outputs": [
    {
     "name": "stdout",
     "output_type": "stream",
     "text": [
      "Calculated value of F-test is:  9.747205503009457\n"
     ]
    }
   ],
   "source": [
    "# Conduct F-test\n",
    "F_test = (mean_btw / mean_within) # mean of summation of square between / mean of summation of square within\n",
    "print('Calculated value of F-test is: ', F_test)"
   ]
  },
  {
   "cell_type": "code",
   "execution_count": 12,
   "metadata": {},
   "outputs": [
    {
     "name": "stdout",
     "output_type": "stream",
     "text": [
      "Critical value of F-test is:  3.8852938346523933\n"
     ]
    }
   ],
   "source": [
    "import scipy.stats\n",
    "\n",
    "# find critical F value for α = 0.05\n",
    "α = 0.05\n",
    "q = 1-α\n",
    "dof_w = 12 # degree of freedom within\n",
    "dof_b = 2 # degree of freedom between\n",
    "\n",
    "F_critical = scipy.stats.f.ppf(q, dof_b, dof_w)\n",
    "print('Critical value of F-test is: ', F_critical)"
   ]
  },
  {
   "cell_type": "markdown",
   "metadata": {},
   "source": [
    "<font color='blue'>\n",
    "    \n",
    "### Conclusions\n",
    "    \n",
    "The criticial value of F-test is: F_crit = 3.89 at 5% level of significance. <br>\n",
    "Our computed value of F-test is: F_comp = 9.75 <br>\n",
    "\n",
    "So, computed value falls in rejection region. Hence we reject the Null Hypothesis. <br>\n",
    "Hence the mean is not same for atll the groups at 5% level of significance.\n",
    "\n",
    "    \n",
    "</font>"
   ]
  },
  {
   "cell_type": "code",
   "execution_count": 13,
   "metadata": {},
   "outputs": [
    {
     "name": "stdout",
     "output_type": "stream",
     "text": [
      "ANOVA table printed: \n",
      "**********************************************************************\n",
      "  Source_Variation  Summation_Square(SS) DOF Mean_Square(MS)  F_Score\n",
      "0          Between           3022.933333   2         1511.47  9.74721\n",
      "1           Within           1860.800000  12         155.067         \n",
      "2            Total           4883.733333                             \n"
     ]
    }
   ],
   "source": [
    "import pandas as pd\n",
    "\n",
    "# creating view for Anova table\n",
    "\n",
    "anno = {'Source_Variation': ['Between', 'Within', 'Total'], 'Summation_Square(SS)': [SS_btw, SS_within, (SS_btw+SS_within)], 'DOF': [dof_b, dof_w,' '], 'Mean_Square(MS)': [mean_btw, mean_within, ' '], 'F_Score': [F_test, ' ', ' ']}\n",
    "df_frq = pd.DataFrame(anno, columns = ['Source_Variation', 'Summation_Square(SS)', 'DOF', 'Mean_Square(MS)', 'F_Score'])\n",
    "print('ANOVA table printed: ')\n",
    "print('*' * 70 )\n",
    "print(df_frq)"
   ]
  },
  {
   "cell_type": "code",
   "execution_count": 14,
   "metadata": {},
   "outputs": [
    {
     "name": "stdout",
     "output_type": "stream",
     "text": [
      "Effective size is:  0.62\n"
     ]
    }
   ],
   "source": [
    "# Effective size: \n",
    "\n",
    "η2 = (SS_btw / (SS_btw + SS_within))\n",
    "print('Effective size is: ', round(η2, 2))"
   ]
  },
  {
   "cell_type": "markdown",
   "metadata": {},
   "source": [
    "<font color='blue'>\n",
    "\n",
    "### APA writeup\n",
    "\n",
    "F(2,12) = 9.75, p<0.05, η2 = 0.62\n",
    "\n",
    "</font>"
   ]
  },
  {
   "cell_type": "markdown",
   "metadata": {},
   "source": [
    "### Problem Statement 3: \n",
    " \n",
    "Calculate F Test for given 10, 20, 30, 40, 50 and 5,10,15, 20, 25. \n",
    " \n",
    "For 10, 20, 30, 40, 50:"
   ]
  },
  {
   "cell_type": "code",
   "execution_count": 15,
   "metadata": {},
   "outputs": [
    {
     "name": "stdout",
     "output_type": "stream",
     "text": [
      "Calculated variance for the first set is:  250.0\n"
     ]
    }
   ],
   "source": [
    "import math\n",
    "\n",
    "lst_one = [10,20,30,40,50]\n",
    "\n",
    "# calculate mean\n",
    "def mean_cal(lst_one):\n",
    "    val = (sum(lst_one) / len(lst_one))\n",
    "    return val\n",
    "\n",
    "miu_mean = mean_cal(lst_one)\n",
    "\n",
    "# calculate standard deviation\n",
    "def stdDev_cal(lst_one, miu_mean):\n",
    "    sqr_sum = 0\n",
    "    for num in lst_one:\n",
    "        sqr_sum += ( num - miu_mean)**2\n",
    "        \n",
    "    stdDev = math.sqrt(sqr_sum * (1/(len(lst_one)-1)))\n",
    "    return stdDev\n",
    "        \n",
    "sig_stdDev = stdDev_cal(lst_one, miu_mean)\n",
    "\n",
    "var_one = sig_stdDev **2\n",
    "\n",
    "print('Calculated variance for the first set is: ',var_one )\n",
    "    "
   ]
  },
  {
   "cell_type": "code",
   "execution_count": 16,
   "metadata": {},
   "outputs": [
    {
     "name": "stdout",
     "output_type": "stream",
     "text": [
      "Calculated variance for the first set is:  62.5\n"
     ]
    }
   ],
   "source": [
    "lst_two = [5,10,15,20,25]\n",
    "\n",
    "# calculate mean\n",
    "def mean_cal(lst_two):\n",
    "    val = (sum(lst_two) / len(lst_two))\n",
    "    return val\n",
    "\n",
    "miu_mean = mean_cal(lst_two)\n",
    "\n",
    "# calculate standard deviation\n",
    "def stdDev_cal(lst_two, miu_mean):\n",
    "    sqr_sum = 0\n",
    "    for num in lst_two:\n",
    "        sqr_sum += ( num - miu_mean)**2\n",
    "        \n",
    "    stdDev = math.sqrt(sqr_sum * (1/(len(lst_two)-1)))\n",
    "    return stdDev\n",
    "        \n",
    "sig_stdDev = stdDev_cal(lst_two, miu_mean)\n",
    "\n",
    "var_two = sig_stdDev **2\n",
    "\n",
    "print('Calculated variance for the first set is: ',var_two )"
   ]
  },
  {
   "cell_type": "code",
   "execution_count": 17,
   "metadata": {},
   "outputs": [
    {
     "name": "stdout",
     "output_type": "stream",
     "text": [
      "The F test value is:  4.0\n"
     ]
    }
   ],
   "source": [
    "# Calculate F Test\n",
    "\n",
    "F_test = (var_one / var_two)\n",
    "print('The F test value is: ', F_test)"
   ]
  },
  {
   "cell_type": "code",
   "execution_count": null,
   "metadata": {},
   "outputs": [],
   "source": []
  }
 ],
 "metadata": {
  "kernelspec": {
   "display_name": "Python 3",
   "language": "python",
   "name": "python3"
  },
  "language_info": {
   "codemirror_mode": {
    "name": "ipython",
    "version": 3
   },
   "file_extension": ".py",
   "mimetype": "text/x-python",
   "name": "python",
   "nbconvert_exporter": "python",
   "pygments_lexer": "ipython3",
   "version": "3.7.3"
  }
 },
 "nbformat": 4,
 "nbformat_minor": 4
}
