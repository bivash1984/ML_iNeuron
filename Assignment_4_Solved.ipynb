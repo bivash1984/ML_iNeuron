{
 "cells": [
  {
   "cell_type": "markdown",
   "metadata": {},
   "source": [
    "## 1.1. Write a Python Program(with class concepts) to find the area of the triangle using the below formula.\n",
    "### area = (s*(s-a)*(s-b)*(s-c)) ** 0.5\n",
    "### Function to take the length of the sides of triangle from user should be defined in the parent\n",
    "### class and function to calculate the area should be defined in subclass."
   ]
  },
  {
   "cell_type": "code",
   "execution_count": 1,
   "metadata": {},
   "outputs": [],
   "source": [
    "class parent_class: # parent class taking input from user\n",
    "    def __init__(self, side1, side2, side3):\n",
    "        self.side1 = int(input(\"Enter first side of the traingle: \"))\n",
    "        self.side2 = int(input(\"Enter second side of the traingle: \"))\n",
    "        self.side3 = int(input(\"Enter third side of the traingle: \"))\n",
    "                \n",
    "\n",
    "class sub_class(parent_class):\n",
    "    def __init__(self, *args):\n",
    "        super(sub_class, self).__init__(*args) # child class inheriting the property of parent class        \n",
    "        \n",
    "    def Calculate_area(self):\n",
    "        \n",
    "        a= self.side1\n",
    "        b = self.side2\n",
    "        c= self.side3\n",
    "        \n",
    "        # calculating the semi-perimeter\n",
    "        s = (a + b + c) / 2\n",
    "        \n",
    "        # calculating area\n",
    "        area =  (s*(s-a)*(s-b)*(s-c)) ** 0.5\n",
    "        \n",
    "        print(\"Calculated area of the triangle is {}: \".format(area))\n",
    "        "
   ]
  },
  {
   "cell_type": "code",
   "execution_count": 2,
   "metadata": {},
   "outputs": [
    {
     "name": "stdout",
     "output_type": "stream",
     "text": [
      "Enter first side of the traingle: 5\n",
      "Enter second side of the traingle: 6\n",
      "Enter third side of the traingle: 7\n",
      "Calculated area of the triangle is 14.696938456699069: \n"
     ]
    }
   ],
   "source": [
    "my_obj = sub_class('side1','side2','side3')\n",
    "my_obj.Calculate_area()"
   ]
  },
  {
   "cell_type": "markdown",
   "metadata": {},
   "source": [
    "## 1.2. Write a function filter_long_words() that takes a list of words and an integer n and returns the list of words that are longer than n."
   ]
  },
  {
   "cell_type": "code",
   "execution_count": 3,
   "metadata": {},
   "outputs": [
    {
     "data": {
      "text/plain": [
       "['Burdwan',\n",
       " 'iNeuronAcademyBoom',\n",
       " 'DataScience',\n",
       " 'MachineLearning',\n",
       " 'HorseRide']"
      ]
     },
     "execution_count": 3,
     "metadata": {},
     "output_type": "execute_result"
    }
   ],
   "source": [
    "def filter_long_words(n, lst): # this function takes an integer and a list of words\n",
    "    \n",
    "    my_lst =[]\n",
    "    for word in range(len(lst)):        \n",
    "        if len(lst[word])>n:\n",
    "            my_lst.append(lst[word])\n",
    "        else:\n",
    "            pass\n",
    "    return my_lst # returns the list of words that are longer than input integer\n",
    "            \n",
    "\n",
    "lst = ['Bivash', 'Raja', 'Burdwan', 'iNeuronAcademyBoom','DataScience', 'MachineLearning', 'HorseRide']\n",
    "n = 6\n",
    "\n",
    "filter_long_words(n, lst)"
   ]
  },
  {
   "cell_type": "markdown",
   "metadata": {},
   "source": [
    "## 2.1. Write a Python program using function concept that maps list of words into a list of integers representing the lengths of the corresponding words .\n",
    "### Hint: If a list [ ab,cde,erty] is passed on to the python function output should come as [2,3,4]\n",
    "### Here 2,3 and 4 are the lengths of the words in the list."
   ]
  },
  {
   "cell_type": "code",
   "execution_count": 4,
   "metadata": {},
   "outputs": [
    {
     "data": {
      "text/plain": [
       "[6, 4, 7, 18, 11, 15, 9]"
      ]
     },
     "execution_count": 4,
     "metadata": {},
     "output_type": "execute_result"
    }
   ],
   "source": [
    "def map_words_length(word_lst): # this function takes the list of the words\n",
    "    word_length = []\n",
    "    for ele in word_lst:\n",
    "        word_length.append(len(ele))\n",
    "    return word_length # returs the length of the input words\n",
    "    \n",
    "\n",
    "lst = ['Bivash', 'Raja', 'Burdwan', 'iNeuronAcademyBoom','DataScience', 'MachineLearning', 'HorseRide']\n",
    "\n",
    "map_words_length(lst)"
   ]
  },
  {
   "cell_type": "markdown",
   "metadata": {},
   "source": [
    "## 2.2. Write a Python function which takes a character (i.e. a string of length 1) and returns True if it is a vowel, False otherwise."
   ]
  },
  {
   "cell_type": "code",
   "execution_count": 5,
   "metadata": {},
   "outputs": [
    {
     "data": {
      "text/plain": [
       "True"
      ]
     },
     "execution_count": 5,
     "metadata": {},
     "output_type": "execute_result"
    }
   ],
   "source": [
    "def vowel_test(n1): # function takes input of a character\n",
    "    vowel_lst = ['a','e','i','o','u']\n",
    "    n2 = n1.lower()\n",
    "    if n2 in vowel_lst:\n",
    "        return True # returns true when vowel found\n",
    "    else:\n",
    "        return False # returns false when vowel not found\n",
    "    \n",
    "               \n",
    "n1 = 'U'\n",
    "vowel_test(n1)"
   ]
  },
  {
   "cell_type": "code",
   "execution_count": 6,
   "metadata": {},
   "outputs": [
    {
     "data": {
      "text/plain": [
       "False"
      ]
     },
     "execution_count": 6,
     "metadata": {},
     "output_type": "execute_result"
    }
   ],
   "source": [
    "n1 = 'k'\n",
    "vowel_test(n1)"
   ]
  },
  {
   "cell_type": "code",
   "execution_count": null,
   "metadata": {},
   "outputs": [],
   "source": []
  }
 ],
 "metadata": {
  "kernelspec": {
   "display_name": "Python 3",
   "language": "python",
   "name": "python3"
  },
  "language_info": {
   "codemirror_mode": {
    "name": "ipython",
    "version": 3
   },
   "file_extension": ".py",
   "mimetype": "text/x-python",
   "name": "python",
   "nbconvert_exporter": "python",
   "pygments_lexer": "ipython3",
   "version": "3.7.3"
  }
 },
 "nbformat": 4,
 "nbformat_minor": 2
}
