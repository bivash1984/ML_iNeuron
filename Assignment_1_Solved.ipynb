{
 "cells": [
  {
   "cell_type": "markdown",
   "metadata": {},
   "source": [
    "# Task 1:"
   ]
  },
  {
   "cell_type": "markdown",
   "metadata": {},
   "source": [
    "## 1. Write a program which will find all such numbers which are divisible by 7 but are not a multiple of 5, between 2000 and 3200 (both included). The numbers obtained should be printed in a comma-separated sequence on a single line."
   ]
  },
  {
   "cell_type": "code",
   "execution_count": 1,
   "metadata": {},
   "outputs": [
    {
     "name": "stdout",
     "output_type": "stream",
     "text": [
      "[2002, 2009, 2016, 2023, 2037, 2044, 2051, 2058, 2072, 2079, 2086, 2093, 2107, 2114, 2121, 2128, 2142, 2149, 2156, 2163, 2177, 2184, 2191, 2198, 2212, 2219, 2226, 2233, 2247, 2254, 2261, 2268, 2282, 2289, 2296, 2303, 2317, 2324, 2331, 2338, 2352, 2359, 2366, 2373, 2387, 2394, 2401, 2408, 2422, 2429, 2436, 2443, 2457, 2464, 2471, 2478, 2492, 2499, 2506, 2513, 2527, 2534, 2541, 2548, 2562, 2569, 2576, 2583, 2597, 2604, 2611, 2618, 2632, 2639, 2646, 2653, 2667, 2674, 2681, 2688, 2702, 2709, 2716, 2723, 2737, 2744, 2751, 2758, 2772, 2779, 2786, 2793, 2807, 2814, 2821, 2828, 2842, 2849, 2856, 2863, 2877, 2884, 2891, 2898, 2912, 2919, 2926, 2933, 2947, 2954, 2961, 2968, 2982, 2989, 2996, 3003, 3017, 3024, 3031, 3038, 3052, 3059, 3066, 3073, 3087, 3094, 3101, 3108, 3122, 3129, 3136, 3143, 3157, 3164, 3171, 3178, 3192, 3199]\n"
     ]
    }
   ],
   "source": [
    "lst =[]\n",
    "for num in range(2000, 3201):\n",
    "    if(num%7 == 0):\n",
    "        if(num%5 != 0):\n",
    "            lst.append(num)\n",
    "print(lst)\n",
    "        \n",
    "#print(len(lst))"
   ]
  },
  {
   "cell_type": "markdown",
   "metadata": {},
   "source": [
    "## 2. Write a Python program to accept the user's first and last name and then getting them printed in the the reverse order with a space between first name and last name. "
   ]
  },
  {
   "cell_type": "code",
   "execution_count": 2,
   "metadata": {},
   "outputs": [
    {
     "name": "stdout",
     "output_type": "stream",
     "text": [
      "Enter First Name: Bivash\n",
      "Enter Last Name: Bairagya\n",
      "Bairagya Bivash\n"
     ]
    }
   ],
   "source": [
    "fName = input(\"Enter First Name: \")\n",
    "lName = input(\"Enter Last Name: \")\n",
    "print(lName, fName)"
   ]
  },
  {
   "cell_type": "code",
   "execution_count": 3,
   "metadata": {},
   "outputs": [
    {
     "name": "stdout",
     "output_type": "stream",
     "text": [
      "Enter First Name: Bivash\n",
      "Enter Last Name: Bairagya\n",
      " hsaviB  aygariaB\n"
     ]
    }
   ],
   "source": [
    "# Not sure about the required output, so I solve the same problem for different output \n",
    "\n",
    "fName1 = input(\"Enter First Name: \")\n",
    "lName1 = input(\"Enter Last Name: \")\n",
    "\n",
    "fname2= \" \"\n",
    "for i in range(len(fName1)-1, -1, -1 ):\n",
    "    fname2 += fName1[i]\n",
    "#print (fname2)\n",
    "    \n",
    "lName2= \" \"\n",
    "for i in range(len(lName1)-1, -1, -1 ):\n",
    "    lName2 += lName1[i]\n",
    "#print (lName2)\n",
    "\n",
    "print(fname2, lName2)"
   ]
  },
  {
   "cell_type": "markdown",
   "metadata": {},
   "source": [
    "## 3. Write a Python program to find the volume of a sphere with diameter 12 cm.  Formula: V=4/3 * π * r 3 "
   ]
  },
  {
   "cell_type": "code",
   "execution_count": 4,
   "metadata": {},
   "outputs": [
    {
     "name": "stdout",
     "output_type": "stream",
     "text": [
      "The voulme of the sphere is: \n",
      "905.142857142857 cu.cm\n"
     ]
    }
   ],
   "source": [
    "D = 12 # Diameter D\n",
    "r= D/2 # Radius r\n",
    "V = (4/3)*(22/7)*r**3 # Volume V\n",
    "print('The voulme of the sphere is: ')\n",
    "print(str(V) + ' cu.cm') # printing volume after calculation"
   ]
  },
  {
   "cell_type": "markdown",
   "metadata": {},
   "source": [
    "## 4. Write a program which accepts a sequence of comma-separated numbers from console and generate a list. "
   ]
  },
  {
   "cell_type": "code",
   "execution_count": 5,
   "metadata": {},
   "outputs": [
    {
     "name": "stdout",
     "output_type": "stream",
     "text": [
      "Please enter comma-separated numbers: 12,23,1,45,90,08,97,509\n",
      "['12', '23', '1', '45', '90', '08', '97', '509']\n"
     ]
    }
   ],
   "source": [
    "numbers = input(\"Please enter comma-separated numbers: \")\n",
    "\n",
    "my_num = numbers.split(',')\n",
    "\n",
    "'''for num in numbers:\n",
    "    my_lst.append(num)'''\n",
    "    \n",
    "print(list(my_num))"
   ]
  },
  {
   "cell_type": "markdown",
   "metadata": {},
   "source": [
    "## 5. Create the below pattern using nested for loop in Python. "
   ]
  },
  {
   "cell_type": "code",
   "execution_count": 6,
   "metadata": {},
   "outputs": [
    {
     "name": "stdout",
     "output_type": "stream",
     "text": [
      "*\n",
      "**\n",
      "***\n",
      "****\n",
      "*****\n",
      "****\n",
      "***\n",
      "**\n",
      "*\n"
     ]
    }
   ],
   "source": [
    "for i in range(1,6):\n",
    "    for j in range(i):\n",
    "        print('*', end='')\n",
    "    print('')\n",
    "    \n",
    "for k in range(4,0,-1):\n",
    "    for l in range(k):\n",
    "        print('*', end='')\n",
    "    print('')"
   ]
  },
  {
   "cell_type": "markdown",
   "metadata": {},
   "source": [
    "## 6. Write a Python program to reverse a word after accepting the input from the user. \n",
    " \n",
    "## Sample Output: \n",
    "## Input word: Ineuron\n",
    "## Output: noruenI"
   ]
  },
  {
   "cell_type": "code",
   "execution_count": 7,
   "metadata": {},
   "outputs": [
    {
     "name": "stdout",
     "output_type": "stream",
     "text": [
      "Enter any word: Ineuron\n",
      "noruenI"
     ]
    }
   ],
   "source": [
    "word = input(\"Enter any word: \")\n",
    "\n",
    "for i in range(len(word)):\n",
    "    print(word[(len(word)-1)-i], end='')"
   ]
  },
  {
   "cell_type": "code",
   "execution_count": 8,
   "metadata": {},
   "outputs": [
    {
     "name": "stdout",
     "output_type": "stream",
     "text": [
      "Enter any word: Ineuron\n",
      " noruenI\n"
     ]
    }
   ],
   "source": [
    "# Another way\n",
    "\n",
    "word2 = input(\"Enter any word: \")\n",
    "\n",
    "myWord = ' '\n",
    "for i in range(-1, - (len(word2)+1),-1):\n",
    "    myWord += word2[i]\n",
    "print(myWord)"
   ]
  },
  {
   "cell_type": "markdown",
   "metadata": {},
   "source": [
    "## 7.Write a Python Program to print the given string in the format specified in the ​sample output. \n",
    " ## WE, THE PEOPLE OF INDIA, having solemnly resolved to constitute India into a SOVEREIGN, SOCIALIST, SECULAR, DEMOCRATIC REPUBLIC and to secure to all its citizens "
   ]
  },
  {
   "cell_type": "code",
   "execution_count": 9,
   "metadata": {},
   "outputs": [
    {
     "name": "stdout",
     "output_type": "stream",
     "text": [
      "WE, THE PEOPLE OF INDIA,\n",
      "      having solemnly resolved to constitute India into a SOVEREIGN, ! \n",
      "  \t   SOCIALIST, SECULAR, DEMOCRATIC REPUBLIC \n",
      "  \t    and to secure to all its citizens\n"
     ]
    }
   ],
   "source": [
    "print(\"WE, THE PEOPLE OF INDIA,\\n      having solemnly resolved to constitute India into a SOVEREIGN, ! \\n  \\t   SOCIALIST, SECULAR, DEMOCRATIC REPUBLIC \\n  \\t    and to secure to all its citizens\")"
   ]
  }
 ],
 "metadata": {
  "kernelspec": {
   "display_name": "Python 3",
   "language": "python",
   "name": "python3"
  },
  "language_info": {
   "codemirror_mode": {
    "name": "ipython",
    "version": 3
   },
   "file_extension": ".py",
   "mimetype": "text/x-python",
   "name": "python",
   "nbconvert_exporter": "python",
   "pygments_lexer": "ipython3",
   "version": "3.7.3"
  }
 },
 "nbformat": 4,
 "nbformat_minor": 2
}
