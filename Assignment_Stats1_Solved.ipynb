{
 "cells": [
  {
   "cell_type": "markdown",
   "metadata": {},
   "source": [
    "## Calculate the mean, median, mode and standard deviation for the problem statements 1& 2. "
   ]
  },
  {
   "cell_type": "markdown",
   "metadata": {},
   "source": [
    "### Problem Statement 1:  \n",
    "#### The marks awarded for an assignment set for a Year 8 class of 20 students were as follows: 6 7 5 7 7 8 7 6 9 7 4 10 6 8 8 9 5 6 4 8 "
   ]
  },
  {
   "cell_type": "code",
   "execution_count": 12,
   "metadata": {},
   "outputs": [],
   "source": [
    "import numpy as np\n",
    "from scipy import stats\n",
    "my_lst = [6, 7, 5, 7, 7, 8, 7, 6, 9, 7, 4, 10, 6, 8, 8, 9, 5, 6, 4, 8 ]"
   ]
  },
  {
   "cell_type": "code",
   "execution_count": 16,
   "metadata": {},
   "outputs": [
    {
     "name": "stdout",
     "output_type": "stream",
     "text": [
      "Calculated mean is:  6.85\n"
     ]
    }
   ],
   "source": [
    "# calculating mean\n",
    "μ = np.mean(my_lst)\n",
    "print('Calculated mean is: ', μ )"
   ]
  },
  {
   "cell_type": "code",
   "execution_count": 17,
   "metadata": {},
   "outputs": [
    {
     "name": "stdout",
     "output_type": "stream",
     "text": [
      "Calculated median is:  7.0\n"
     ]
    }
   ],
   "source": [
    "# calculating median\n",
    "md = np.median(my_lst)\n",
    "print('Calculated median is: ', md )"
   ]
  },
  {
   "cell_type": "code",
   "execution_count": 18,
   "metadata": {},
   "outputs": [
    {
     "name": "stdout",
     "output_type": "stream",
     "text": [
      "Calculated mode is:  ModeResult(mode=array([7]), count=array([5]))\n"
     ]
    }
   ],
   "source": [
    "# calculating mode\n",
    "mod = stats.mode(my_lst)\n",
    "print('Calculated mode is: ', mod )"
   ]
  },
  {
   "cell_type": "code",
   "execution_count": 19,
   "metadata": {},
   "outputs": [
    {
     "name": "stdout",
     "output_type": "stream",
     "text": [
      "Calculated standard deviation is:  1.5898113095584647\n"
     ]
    }
   ],
   "source": [
    "# calculating Standard deviation\n",
    "stdDev = np.std(my_lst)\n",
    "print('Calculated standard deviation is: ', stdDev )"
   ]
  },
  {
   "cell_type": "markdown",
   "metadata": {},
   "source": [
    "### Problem Statement 2:  \n",
    " \n",
    "#### The number of calls from motorists per day for roadside service was recorded for a particular month: 28, 122, 217, 130, 120, 86, 80, 90, 140, 120, 70, 40, 145, 113, 90, 68, 174, 194, 170, 100, 75, 104, 97, 75, 123, 100, 75, 104, 97, 75, 123, 100, 89, 120, 109"
   ]
  },
  {
   "cell_type": "code",
   "execution_count": 20,
   "metadata": {},
   "outputs": [
    {
     "name": "stdout",
     "output_type": "stream",
     "text": [
      "Calculated mean is:  107.51428571428572\n"
     ]
    }
   ],
   "source": [
    "calls = [28, 122, 217, 130, 120, 86, 80, 90, 140, 120, 70, 40, 145, 113, 90, 68, \n",
    "         174, 194, 170, 100, 75, 104, 97, 75, 123, 100, 75, 104, 97, 75, 123, 100, 89, 120, 109]\n",
    "\n",
    "# calculating mean\n",
    "μ1 = np.mean(calls)\n",
    "print('Calculated mean is: ', μ1 )"
   ]
  },
  {
   "cell_type": "code",
   "execution_count": 21,
   "metadata": {},
   "outputs": [
    {
     "name": "stdout",
     "output_type": "stream",
     "text": [
      "Calculated median is:  100.0\n"
     ]
    }
   ],
   "source": [
    "# calculating median\n",
    "md1 = np.median(calls)\n",
    "print('Calculated median is: ', md1 )"
   ]
  },
  {
   "cell_type": "code",
   "execution_count": 22,
   "metadata": {},
   "outputs": [
    {
     "name": "stdout",
     "output_type": "stream",
     "text": [
      "Calculated mode is:  ModeResult(mode=array([75]), count=array([4]))\n"
     ]
    }
   ],
   "source": [
    "# calculating mode\n",
    "mod1 = stats.mode(calls)\n",
    "print('Calculated mode is: ', mod1 )"
   ]
  },
  {
   "cell_type": "code",
   "execution_count": 23,
   "metadata": {},
   "outputs": [
    {
     "name": "stdout",
     "output_type": "stream",
     "text": [
      "Calculated mean is:  38.77287080168403\n"
     ]
    }
   ],
   "source": [
    "# calculating Standard deviation\n",
    "stdDov1 = np.std(calls)\n",
    "print('Calculated mean is: ', stdDov1 )"
   ]
  },
  {
   "cell_type": "markdown",
   "metadata": {},
   "source": [
    "### Problem Statement 3:  \n",
    " \n",
    "#### The number of times I go to the gym in weekdays, are given below along with its associated probability: x = 0, 1, 2, 3, 4, 5 \n",
    "#### f(x) = 0.09, 0.15, 0.40, 0.25, 0.10, 0.01 Calculate the mean no. of workouts in a week. Also evaluate the variance involved in it. "
   ]
  },
  {
   "cell_type": "code",
   "execution_count": 35,
   "metadata": {},
   "outputs": [
    {
     "name": "stdout",
     "output_type": "stream",
     "text": [
      "So, mean no.of workouts in a week is:  2.15\n"
     ]
    }
   ],
   "source": [
    "x = np.array([0, 1, 2, 3, 4, 5])\n",
    "y = np.array([0.09, 0.15, 0.40, 0.25, 0.10, 0.01])\n",
    "z = x * y\n",
    "\n",
    "def mean_cal(lst):\n",
    "    mean_found = 0\n",
    "    for ele in lst:\n",
    "        mean_found += ele\n",
    "    return mean_found\n",
    "\n",
    "miu = mean_cal(z)\n",
    "\n",
    "print('So, mean no.of workouts in a week is: ', miu)"
   ]
  },
  {
   "cell_type": "code",
   "execution_count": 37,
   "metadata": {},
   "outputs": [
    {
     "name": "stdout",
     "output_type": "stream",
     "text": [
      "So, calculated variance is:  1.2275\n"
     ]
    }
   ],
   "source": [
    "def variance_cal(x, y, miu):\n",
    "    squr_sum = 0\n",
    "    for i in range(len(x)):\n",
    "        squr_sum += (x[i]-miu)**2 * y[i]\n",
    "    return squr_sum\n",
    "\n",
    "var = variance_cal(x,y,miu)\n",
    "\n",
    "print('So, calculated variance is: ', var)"
   ]
  },
  {
   "cell_type": "markdown",
   "metadata": {},
   "source": [
    "### Problem Statement 4: \n",
    " \n",
    "#### Let the continuous random variable D denote the diameter of the hole drilled in an aluminum sheet. The target diameter to be achieved is 12.5mm. Random disturbances in the process often result in inaccuracy. Historical data shows that the distribution of D can be modelled by the PDF (𝑑) = 20𝑒−20(𝑑−12.5), 𝑑 ≥ 12.5. If a part with diameter > 12.6 mm needs to be scrapped, what is the proportion of those parts? What is the CDF when the diameter is of 11 mm? What is your conclusion regarding the proportion of scraps? \n",
    " \n",
    " "
   ]
  },
  {
   "cell_type": "code",
   "execution_count": 15,
   "metadata": {},
   "outputs": [],
   "source": [
    "import math\n",
    "from math import exp\n",
    "from scipy.integrate import quad\n"
   ]
  },
  {
   "cell_type": "code",
   "execution_count": 6,
   "metadata": {},
   "outputs": [],
   "source": [
    "# writing a function for PDF(d), this will calculate the PDF value for the given 'd'\n",
    "def pdf(d):\n",
    "    return 20*exp(-20*(d-12.5))\n",
    "    "
   ]
  },
  {
   "cell_type": "code",
   "execution_count": 14,
   "metadata": {},
   "outputs": [
    {
     "name": "stdout",
     "output_type": "stream",
     "text": [
      "The proportin of parts scrapped is 0.135335 \n"
     ]
    }
   ],
   "source": [
    "# call quad to integrate the pdf function within a limit of 12.6 to inf\n",
    "#diameter > 12.6 mm needs to be scrapped\n",
    "\n",
    "res, err = quad(pdf, 12.6, math.inf)\n",
    "\n",
    "print(\"The proportin of parts scrapped is {:f} \".format(res))"
   ]
  },
  {
   "cell_type": "markdown",
   "metadata": {},
   "source": [
    "<font color='blue'>\n",
    "\n",
    "#### What is the CDF when the diameter is of 11 mm?\n",
    "Here cumulative density function (CDF) is consists of two expressions - <br>\n",
    "F(d) = 0; when d < 12.5 and <br>\n",
    "F(d) = 20𝑒−20(𝑑−12.5); when d>= 12.5 <br>\n",
    "So, d = 11, CDF will be zero (0).<br>\n",
    "\n",
    "</font>\n"
   ]
  },
  {
   "cell_type": "code",
   "execution_count": 21,
   "metadata": {},
   "outputs": [
    {
     "name": "stdout",
     "output_type": "stream",
     "text": [
      "The proportin of parts accepted is 0.864665 \n"
     ]
    }
   ],
   "source": [
    "# Now calculating the proportion of parts which is accepted.\n",
    "# Accepted diameter will be in the range of 12.5 to 12.6 mm.\n",
    "\n",
    "res, err = quad(pdf, 12.5, 12.6)\n",
    "\n",
    "print(\"The proportin of parts accepted is {:f} \".format(res))"
   ]
  },
  {
   "cell_type": "markdown",
   "metadata": {},
   "source": [
    "<font color='blue'>\n",
    "\n",
    "#### Conclusions:\n",
    "Around 13.5% products will be scrapped and 86.5% products will be accepted.\n",
    "    \n",
    "</font>"
   ]
  },
  {
   "cell_type": "markdown",
   "metadata": {},
   "source": [
    "### Problem Statement 5:  \n",
    "#### A company manufactures LED bulbs with a faulty rate of 30%. If I randomly select 6 chosen LEDs, what is the probability of having 2 faulty LEDs in my sample? Calculate the average value of this process. Also evaluate the standard deviation associated with it. "
   ]
  },
  {
   "cell_type": "code",
   "execution_count": 89,
   "metadata": {},
   "outputs": [
    {
     "name": "stdout",
     "output_type": "stream",
     "text": [
      "So, required probabaility is:  0.013531377424862606\n"
     ]
    }
   ],
   "source": [
    "from scipy.stats import poisson\n",
    "import math\n",
    "n = 6\n",
    "p = 0.03\n",
    "\n",
    "miu = n*p\n",
    "x = 2\n",
    "\n",
    "def cal_poission_dist(miu, x):\n",
    "    result = math.exp(-miu)*((miu)**x) / math.factorial(x)\n",
    "    return result\n",
    "\n",
    "print('So, required probabaility is: ', cal_poission_dist(miu, x))\n"
   ]
  },
  {
   "cell_type": "code",
   "execution_count": 90,
   "metadata": {},
   "outputs": [
    {
     "name": "stdout",
     "output_type": "stream",
     "text": [
      "So, the calculated standard deviation is:  0.4242640687119285\n"
     ]
    }
   ],
   "source": [
    "# In poission distribution mean = variance\n",
    "# So standard deviation will be root(mean)\n",
    "std = math.sqrt(miu)\n",
    "print('So, the calculated standard deviation is: ', std)"
   ]
  },
  {
   "cell_type": "markdown",
   "metadata": {},
   "source": [
    "### Problem Statement 6: \n",
    "\n",
    "#### Gaurav and Barakha are both preparing for entrance exams. Gaurav attempts to solve 8 questions per day with a correction rate of 75%, while Barakha averages around 12 questions per day with a correction rate of 45%. What is the probability that each of them will solve 5 questions correctly? What happens in cases of 4 and 6 correct solutions? What do you infer from it? What are the two main governing factors affecting their ability to solve questions correctly? Give a pictorial representation of the same to validate your answer. "
   ]
  },
  {
   "cell_type": "code",
   "execution_count": 23,
   "metadata": {},
   "outputs": [],
   "source": [
    "import math\n",
    "import seaborn\n",
    "from scipy.stats import binom\n",
    "\n",
    "# Gaurav\n",
    "p = 0.75\n",
    "q = 0.25\n",
    "n = 8\n",
    "x = 5\n"
   ]
  },
  {
   "cell_type": "code",
   "execution_count": 24,
   "metadata": {},
   "outputs": [],
   "source": [
    "# writing function for Binomila calculation\n",
    "def cal_Binomial(p,q,n,x):\n",
    "    \n",
    "    g = (math.factorial(n)/(math.factorial(n-x) * math.factorial(x))) * p**x * q**(n-x) #nCx.p^x.q^(n-x)\n",
    "    \n",
    "    return g\n"
   ]
  },
  {
   "cell_type": "code",
   "execution_count": 37,
   "metadata": {},
   "outputs": [
    {
     "name": "stdout",
     "output_type": "stream",
     "text": [
      "Gaurav's probability of solving 5 questions correctly is: \n"
     ]
    },
    {
     "data": {
      "text/plain": [
       "0.2076416015625"
      ]
     },
     "execution_count": 37,
     "metadata": {},
     "output_type": "execute_result"
    }
   ],
   "source": [
    "print(\"Gaurav's probability of solving 5 questions correctly is: \")\n",
    "cal_Binomial(0.75,0.25,8,5)"
   ]
  },
  {
   "cell_type": "code",
   "execution_count": null,
   "metadata": {},
   "outputs": [],
   "source": [
    "# Barakha\n",
    "p = 0.45\n",
    "q = 0.55\n",
    "n = 12\n",
    "x = 5"
   ]
  },
  {
   "cell_type": "code",
   "execution_count": 38,
   "metadata": {},
   "outputs": [
    {
     "name": "stdout",
     "output_type": "stream",
     "text": [
      "Barakha's probability of solving 5 questions correctly is: \n"
     ]
    },
    {
     "data": {
      "text/plain": [
       "0.22249823843265837"
      ]
     },
     "execution_count": 38,
     "metadata": {},
     "output_type": "execute_result"
    }
   ],
   "source": [
    "print(\"Barakha's probability of solving 5 questions correctly is: \")\n",
    "cal_Binomial(0.45,0.55,12,5)"
   ]
  },
  {
   "cell_type": "code",
   "execution_count": 39,
   "metadata": {},
   "outputs": [
    {
     "name": "stdout",
     "output_type": "stream",
     "text": [
      "Gaurav's probability of solving 4 questions correctly is: \n"
     ]
    },
    {
     "data": {
      "text/plain": [
       "0.086517333984375"
      ]
     },
     "execution_count": 39,
     "metadata": {},
     "output_type": "execute_result"
    }
   ],
   "source": [
    "print(\"Gaurav's probability of solving 4 questions correctly is: \")\n",
    "cal_Binomial(0.75,0.25,8,4)"
   ]
  },
  {
   "cell_type": "code",
   "execution_count": 40,
   "metadata": {},
   "outputs": [
    {
     "name": "stdout",
     "output_type": "stream",
     "text": [
      "Gaurav's probability of solving 6 questions correctly is: \n"
     ]
    },
    {
     "data": {
      "text/plain": [
       "0.31146240234375"
      ]
     },
     "execution_count": 40,
     "metadata": {},
     "output_type": "execute_result"
    }
   ],
   "source": [
    "print(\"Gaurav's probability of solving 6 questions correctly is: \")\n",
    "cal_Binomial(0.75,0.25,8,6)"
   ]
  },
  {
   "cell_type": "code",
   "execution_count": 41,
   "metadata": {},
   "outputs": [
    {
     "name": "stdout",
     "output_type": "stream",
     "text": [
      "Barakha's probability of solving 4 questions correctly is: \n"
     ]
    },
    {
     "data": {
      "text/plain": [
       "0.16996393213605848"
      ]
     },
     "execution_count": 41,
     "metadata": {},
     "output_type": "execute_result"
    }
   ],
   "source": [
    "print(\"Barakha's probability of solving 4 questions correctly is: \")\n",
    "cal_Binomial(0.45,0.55,12,4)"
   ]
  },
  {
   "cell_type": "code",
   "execution_count": 42,
   "metadata": {},
   "outputs": [
    {
     "name": "stdout",
     "output_type": "stream",
     "text": [
      "Barakha's probability of solving 6 questions correctly is: \n"
     ]
    },
    {
     "data": {
      "text/plain": [
       "0.2123846821402648"
      ]
     },
     "execution_count": 42,
     "metadata": {},
     "output_type": "execute_result"
    }
   ],
   "source": [
    "print(\"Barakha's probability of solving 6 questions correctly is: \")\n",
    "cal_Binomial(0.45,0.55,12,6)"
   ]
  },
  {
   "cell_type": "code",
   "execution_count": 47,
   "metadata": {},
   "outputs": [
    {
     "name": "stdout",
     "output_type": "stream",
     "text": [
      "Gaurav's data distribution: \n"
     ]
    },
    {
     "data": {
      "text/plain": [
       "[Text(0, 0.5, 'Frequency'), Text(0.5, 0, 'Binomial')]"
      ]
     },
     "execution_count": 47,
     "metadata": {},
     "output_type": "execute_result"
    },
    {
     "data": {
      "image/png": "[encoded data removed]",
      "text/plain": [
       "<Figure size 432x288 with 1 Axes>"
      ]
     },
     "metadata": {
      "needs_background": "light"
     },
     "output_type": "display_data"
    }
   ],
   "source": [
    "print(\"Gaurav's data distribution: \")\n",
    "data = binom.rvs(n=8,p=0.75, loc=0, size=1000 )\n",
    "ax=seaborn.distplot(data,kde=True,color='pink',hist_kws={\"linewidth\":22,'alpha':0.77})\n",
    "ax.set(xlabel='Binomial',ylabel='Frequency')\n"
   ]
  },
  {
   "cell_type": "code",
   "execution_count": 46,
   "metadata": {},
   "outputs": [
    {
     "name": "stdout",
     "output_type": "stream",
     "text": [
      "Barakha's data distribution: \n"
     ]
    },
    {
     "data": {
      "text/plain": [
       "[Text(0, 0.5, 'Frequency'), Text(0.5, 0, 'Binomial')]"
      ]
     },
     "execution_count": 46,
     "metadata": {},
     "output_type": "execute_result"
    },
    {
     "data": {
      "image/png": "[encoded data removed]",
      "text/plain": [
       "<Figure size 432x288 with 1 Axes>"
      ]
     },
     "metadata": {
      "needs_background": "light"
     },
     "output_type": "display_data"
    }
   ],
   "source": [
    "print(\"Barakha's data distribution: \")\n",
    "data1 = binom.rvs(n=12,p=0.45, loc=0, size=1000 )\n",
    "ax=seaborn.distplot(data1,kde=True,color='pink',hist_kws={\"linewidth\":22,'alpha':0.77})\n",
    "ax.set(xlabel='Binomial',ylabel='Frequency')"
   ]
  },
  {
   "cell_type": "markdown",
   "metadata": {},
   "source": [
    "<font color='blue'>\n",
    "\n",
    "#### Conclusions- \n",
    "Barakha's probability is highest in solving 5 questions correctly, which is 22.24% <br>\n",
    "Gourav's probability is highest in solving 6 question correctly, which is 31.14% <br>\n",
    "    \n",
    "</font>"
   ]
  },
  {
   "cell_type": "markdown",
   "metadata": {},
   "source": [
    "### Problem Statement 7: \n",
    " \n",
    "#### Customers arrive at a rate of 72 per hour to my shop. What is the probability of 𝑘 customers arriving in 4 minutes? a) 5 customers, b) not more than 3 customers, c) more than 3 customers. Give a pictorial representation of the same to validate your answer. "
   ]
  },
  {
   "cell_type": "code",
   "execution_count": 29,
   "metadata": {},
   "outputs": [],
   "source": [
    "import math\n",
    "from math import exp\n",
    "from scipy.integrate import quad"
   ]
  },
  {
   "cell_type": "code",
   "execution_count": 30,
   "metadata": {},
   "outputs": [],
   "source": [
    "# mean customer arrives in 4 minutes\n",
    "\n",
    "miu = (72/60)*4\n",
    "\n",
    "# Writing a function to calculate Poissions distributions\n",
    "\n",
    "def cal_poission_dist(miu, x):\n",
    "    result = math.exp(-miu)*((miu)**x) / math.factorial(x)\n",
    "    return result\n"
   ]
  },
  {
   "cell_type": "code",
   "execution_count": 31,
   "metadata": {},
   "outputs": [
    {
     "name": "stdout",
     "output_type": "stream",
     "text": [
      "Probability of 5 customers arriving in 4 minutes is:  0.17474768364388282\n"
     ]
    }
   ],
   "source": [
    "# probability of 5 customers arriving in 4 minutes; P(x=5)\n",
    "P_5 = cal_poission_dist(miu, 5)\n",
    "print('Probability of 5 customers arriving in 4 minutes is: ', P_5)"
   ]
  },
  {
   "cell_type": "code",
   "execution_count": 32,
   "metadata": {},
   "outputs": [
    {
     "name": "stdout",
     "output_type": "stream",
     "text": [
      "Probability of not more than 3 customers arriving in 4 minutes is:  0.2942299164965641\n"
     ]
    }
   ],
   "source": [
    "# probability of not more than 3 customers arriving in 4 minutes; P(x=0)+P(x=1)+P(x=2)+P(x=3)\n",
    "P_3 = cal_poission_dist(miu, 0) + cal_poission_dist(miu, 1) + cal_poission_dist(miu, 2) + cal_poission_dist(miu, 3)\n",
    "print('Probability of not more than 3 customers arriving in 4 minutes is: ', P_3)"
   ]
  },
  {
   "cell_type": "code",
   "execution_count": 33,
   "metadata": {},
   "outputs": [
    {
     "name": "stdout",
     "output_type": "stream",
     "text": [
      "Probability of more than 3 customers arriving in 4 minutes is:  0.705770083503436\n"
     ]
    }
   ],
   "source": [
    "# probability of more than 3 customers arriving in 4 minutes; (1 - proability of not more than 3 customers)\n",
    "# 1 - {P(x=0)+P(x=1)+P(x=2)+P(x=3)}\n",
    "\n",
    "P_m3 = 1 - (cal_poission_dist(miu, 0) + cal_poission_dist(miu, 1) + cal_poission_dist(miu, 2) + cal_poission_dist(miu, 3))\n",
    "print('Probability of more than 3 customers arriving in 4 minutes is: ', P_m3)"
   ]
  },
  {
   "cell_type": "code",
   "execution_count": 114,
   "metadata": {},
   "outputs": [
    {
     "data": {
      "text/plain": [
       "[Text(0, 0.5, 'Frequency'), Text(0.5, 0, 'Poisson')]"
      ]
     },
     "execution_count": 114,
     "metadata": {},
     "output_type": "execute_result"
    },
    {
     "data": {
      "image/png": "[encoded data removed]",
      "text/plain": [
       "<Figure size 432x288 with 1 Axes>"
      ]
     },
     "metadata": {
      "needs_background": "light"
     },
     "output_type": "display_data"
    }
   ],
   "source": [
    "from scipy.stats import poisson\n",
    "import matplotlib.pyplot as plt \n",
    "import seaborn as sns\n",
    "%matplotlib inline\n",
    "\n",
    "# Create the sample\n",
    "sample = poisson.rvs(mu=miu, size=1000)\n",
    "\n",
    "# Plot the sample\n",
    "# sns.distplot(sample, kde=False)\n",
    "# plt.show()\n",
    "\n",
    "ax = sns.distplot(sample, kde=True, color='pink',hist_kws={\"linewidth\": 25,'alpha':0.77})\n",
    "ax.set(xlabel='Poisson', ylabel='Frequency')"
   ]
  },
  {
   "cell_type": "markdown",
   "metadata": {},
   "source": [
    "<font color='blue'>\n",
    "    \n",
    "#### Conclusions:\n",
    "So,frequency of Poission distribution is highest when distribution value is nearly 3\n",
    "    \n",
    "</font>"
   ]
  },
  {
   "cell_type": "markdown",
   "metadata": {},
   "source": [
    "### Problem Statement 8: \n",
    " \n",
    "#### I work as a data analyst in Aeon Learning Pvt. Ltd. After analyzing data, I make reports, where I have the efficiency of entering 77 words per minute with 6 errors per hour. What is the probability that I will commit 2 errors in a 455-word financial report? What happens when the no. of words increases/decreases (in case of 1000 words, 255 words)?  \n",
    "#### How is the 𝜆 affected? \n",
    "#### How does it influence the PMF?  \n",
    "#### Give a pictorial representation of the same to validate your answer. "
   ]
  },
  {
   "cell_type": "code",
   "execution_count": 25,
   "metadata": {},
   "outputs": [],
   "source": [
    "import math\n",
    "total_words = 77 * 60\n",
    "mistakes = 6\n",
    "\n",
    "# total mistake in 455 workds, is the mean here\n",
    "miu = (mistakes * 455) / total_words\n",
    "x = 2\n"
   ]
  },
  {
   "cell_type": "code",
   "execution_count": 26,
   "metadata": {},
   "outputs": [
    {
     "name": "stdout",
     "output_type": "stream",
     "text": [
      "So, the probability of commiting 2 errors in 455 words is:  0.09669027375144446\n"
     ]
    }
   ],
   "source": [
    "def cal_poission_dist(miu, x):\n",
    "    result = math.exp(-miu)*((miu)**x) / math.factorial(x)\n",
    "    return result\n",
    "\n",
    "print('So, the probability of commiting 2 errors in 455 words is: ', cal_poission_dist(miu, x))"
   ]
  },
  {
   "cell_type": "code",
   "execution_count": 27,
   "metadata": {},
   "outputs": [],
   "source": [
    "# in case of 1000 words\n",
    "miu_1000 = (mistakes * 1000) / total_words\n",
    "x_1000 = 2"
   ]
  },
  {
   "cell_type": "code",
   "execution_count": 28,
   "metadata": {},
   "outputs": [
    {
     "name": "stdout",
     "output_type": "stream",
     "text": [
      "So, the probability of commiting 2 errors in 1000 words is:  0.23012815007300153\n"
     ]
    }
   ],
   "source": [
    "def cal_poission_dist(miu, x):\n",
    "    result = math.exp(-miu)*((miu)**x) / math.factorial(x)\n",
    "    return result\n",
    "\n",
    "print('So, the probability of commiting 2 errors in 1000 words is: ', cal_poission_dist(miu_1000, x_1000))"
   ]
  },
  {
   "cell_type": "code",
   "execution_count": 29,
   "metadata": {},
   "outputs": [],
   "source": [
    "# in case of 255 words\n",
    "miu_255 = (mistakes * 255) / total_words\n",
    "x_255 = 2"
   ]
  },
  {
   "cell_type": "code",
   "execution_count": 30,
   "metadata": {},
   "outputs": [
    {
     "name": "stdout",
     "output_type": "stream",
     "text": [
      "So, the probability of commiting 2 errors in 255 words is:  0.039377135392854104\n"
     ]
    }
   ],
   "source": [
    "def cal_poission_dist(miu, x):\n",
    "    result = math.exp(-miu)*((miu)**x) / math.factorial(x)\n",
    "    return result\n",
    "\n",
    "print('So, the probability of commiting 2 errors in 255 words is: ', cal_poission_dist(miu_255, x_255))"
   ]
  },
  {
   "cell_type": "code",
   "execution_count": 68,
   "metadata": {},
   "outputs": [
    {
     "data": {
      "image/png": "[encoded data removed]",
      "text/plain": [
       "<Figure size 432x288 with 1 Axes>"
      ]
     },
     "metadata": {
      "needs_background": "light"
     },
     "output_type": "display_data"
    }
   ],
   "source": [
    "from scipy.stats import poisson\n",
    "import matplotlib.pyplot as plt \n",
    "import seaborn as sns\n",
    "%matplotlib inline\n",
    "\n",
    "# Create the sample\n",
    "\n",
    "mu=[miu, miu_1000, miu_255] # miu = 0.591, miu_1000 = 1.299, miu_255 = 0.331\n",
    "for val in mu:\n",
    "    sample = poisson.rvs(mu= val, size=1000)\n",
    "    ax = sns.distplot(sample, kde=True, color='pink',hist_kws={\"linewidth\": 30,'alpha':0.85})\n",
    "    ax.set(xlabel='Poisson', ylabel='Frequency')\n",
    "\n",
    "# Plot the sample\n",
    "# sns.distplot(sample, kde=False)\n",
    "# plt.show()\n",
    "\n",
    "#ax = sns.distplot(sample, kde=True, color='pink',hist_kws={\"linewidth\": 25,'alpha':0.77})\n",
    "#ax.set(xlabel='Poisson', ylabel='Frequency')"
   ]
  },
  {
   "cell_type": "markdown",
   "metadata": {},
   "source": [
    "<font color='blue'>\n",
    "\n",
    "#### Conclusions:\n",
    "\n",
    "The probability of commiting error increases with the increase of number of words entered in the system, and decreases with the decrease of number of words entered in the system.\n",
    "\n",
    "</font>"
   ]
  },
  {
   "cell_type": "markdown",
   "metadata": {},
   "source": [
    "### Problem Statement 9: \n",
    " \n",
    "#### Let the continuous random variable D denote the diameter of the hole drilled in an aluminum sheet. The target diameter to be achieved is 12.5mm. Random disturbances in the process often result in inaccuracy. Historical data shows that the distribution of D can be modelled by the PDF, f(d) = 20e−20(d−12.5), d ≥ 12.5. If a part with diameter > 12.6 mm needs to be scrapped, what is the proportion of those parts? What is the CDF when the diameter is of 11 mm? \n",
    "#### What is the conclusion of this experiment? "
   ]
  },
  {
   "cell_type": "code",
   "execution_count": 58,
   "metadata": {},
   "outputs": [],
   "source": [
    "# Same as Problem Statement 4, Duplicate queations"
   ]
  },
  {
   "cell_type": "markdown",
   "metadata": {},
   "source": [
    "### Problem Statement 10: \n",
    " \n",
    "#### Please compute the following: \n",
    "#### a) P(Z > 1.26), . P(Z < −0.86), P(Z > −1.37), P(−1.25 < Z < 0.37), . P(Z ≤ −4.6) \n",
    "#### b) Find the value 𝑧 such that 𝑃(𝑍 > 𝑧) = 0.05 \n",
    "#### c) Find the value of 𝑧 such that 𝑃(−𝑧 < 𝑍 < 𝑧) = 0.99 "
   ]
  },
  {
   "cell_type": "markdown",
   "metadata": {},
   "source": [
    "<font color='blue'>\n",
    "\n",
    "a) P(Z > 1.26), . P(Z < −0.86), P(Z > −1.37), P(−1.25 < Z < 0.37), . P(Z ≤ −4.6)\n",
    "    \n",
    "</font>"
   ]
  },
  {
   "cell_type": "code",
   "execution_count": 40,
   "metadata": {},
   "outputs": [
    {
     "data": {
      "text/plain": [
       "0.1948945212518084"
      ]
     },
     "execution_count": 40,
     "metadata": {},
     "output_type": "execute_result"
    }
   ],
   "source": [
    "from scipy.stats import norm\n",
    "val = norm.cdf(-0.86)\n",
    "val"
   ]
  },
  {
   "cell_type": "code",
   "execution_count": 43,
   "metadata": {},
   "outputs": [
    {
     "name": "stdout",
     "output_type": "stream",
     "text": [
      "Calculated probability is:  0.10383468112130045\n"
     ]
    }
   ],
   "source": [
    "# P(Z > 1.26) = 1 - P(Z <= 1.26)\n",
    "P_Val_1 = 1 - norm.cdf(1.26)\n",
    "print('Calculated probability is: ',P_Val_1)"
   ]
  },
  {
   "cell_type": "code",
   "execution_count": 45,
   "metadata": {},
   "outputs": [
    {
     "name": "stdout",
     "output_type": "stream",
     "text": [
      "Calculated probability is:  0.1948945212518084\n"
     ]
    }
   ],
   "source": [
    "# P(Z < -0.86)\n",
    "P_Val_2 = norm.cdf(-0.86)\n",
    "print('Calculated probability is: ',P_Val_2)"
   ]
  },
  {
   "cell_type": "code",
   "execution_count": 46,
   "metadata": {},
   "outputs": [
    {
     "name": "stdout",
     "output_type": "stream",
     "text": [
      "Calculated probability is:  0.914656549178033\n"
     ]
    }
   ],
   "source": [
    "# P(Z > -1.37) = P(Z < 1.37)\n",
    "P_Val_3 = norm.cdf(1.37)\n",
    "print('Calculated probability is: ',P_Val_3)"
   ]
  },
  {
   "cell_type": "code",
   "execution_count": 47,
   "metadata": {},
   "outputs": [
    {
     "name": "stdout",
     "output_type": "stream",
     "text": [
      "Calculated probability is:  0.5386589811336914\n"
     ]
    }
   ],
   "source": [
    "# P(-1.25 < Z < 0.37) = P(Z < 0.37) - P(Z < -1.25)\n",
    "P_Val_4 = norm.cdf(0.37) - norm.cdf(-1.25)\n",
    "print('Calculated probability is: ',P_Val_4)"
   ]
  },
  {
   "cell_type": "code",
   "execution_count": 48,
   "metadata": {},
   "outputs": [
    {
     "name": "stdout",
     "output_type": "stream",
     "text": [
      "Calculated probability is:  2.1124547025028537e-06\n"
     ]
    }
   ],
   "source": [
    "# P(Z <= -4.6)\n",
    "P_Val_5 = norm.cdf(-4.6)\n",
    "print('Calculated probability is: ',P_Val_5)"
   ]
  },
  {
   "cell_type": "markdown",
   "metadata": {},
   "source": [
    "<font color='blue'>\n",
    "\n",
    "b) Find the value 𝑧 such that 𝑃(𝑍 > 𝑧) = 0.05\n",
    "\n",
    "</font>"
   ]
  },
  {
   "cell_type": "code",
   "execution_count": 50,
   "metadata": {},
   "outputs": [
    {
     "name": "stdout",
     "output_type": "stream",
     "text": [
      "Calculated value of Z is:  -1.6448536269514729\n"
     ]
    }
   ],
   "source": [
    "# Find the value 𝑧 such that 𝑃(𝑍 > 𝑧) = 0.05\n",
    "Z_val = norm.ppf(0.05)\n",
    "print('Calculated value of Z is: ',Z_val)"
   ]
  },
  {
   "cell_type": "code",
   "execution_count": 58,
   "metadata": {},
   "outputs": [
    {
     "data": {
      "text/plain": [
       "0.99"
      ]
     },
     "execution_count": 58,
     "metadata": {},
     "output_type": "execute_result"
    }
   ],
   "source": [
    "# cross check\n",
    "prob = norm.cdf(Z_val)\n",
    "prob"
   ]
  },
  {
   "cell_type": "markdown",
   "metadata": {},
   "source": [
    "<font color='blue'>\n",
    "\n",
    "c) Find the value of 𝑧 such that 𝑃(−𝑧 < 𝑍 < 𝑧) = 0.99\n",
    "\n",
    "</font>"
   ]
  },
  {
   "cell_type": "markdown",
   "metadata": {},
   "source": [
    "This is a two-tailed test. <br>\n",
    "significance level alpha = 1-0.99 = 0.01 <br>\n",
    "for two-tailed test alpha/2 = 0.01 / 2 = 0.005 <br>\n",
    "probability = 1 - 0.005 = 0.995 <br>\n",
    "Now we need to find the critical value for probability = 0.995 <br>\n"
   ]
  },
  {
   "cell_type": "code",
   "execution_count": 56,
   "metadata": {},
   "outputs": [
    {
     "name": "stdout",
     "output_type": "stream",
     "text": [
      "Calculated value of z is:  2.5758293035489004\n"
     ]
    }
   ],
   "source": [
    "z_val1 = norm.ppf(0.995)\n",
    "print('Calculated value of z is: ',z_val1)"
   ]
  },
  {
   "cell_type": "markdown",
   "metadata": {},
   "source": [
    "<font color='green'>\n",
    "\n",
    "So the calculated value of z is: z = + 2.576 and - 2.576 <br>\n",
    "\n",
    "𝑃(−2.576 < 𝑍 < 2.576) = 0.99\n",
    "\n",
    "</font>"
   ]
  },
  {
   "cell_type": "markdown",
   "metadata": {},
   "source": [
    "### Problem Statement 11: \n",
    " \n",
    "#### The current flow in a copper wire follow a normal distribution with a mean of 10 𝑚A and a variance of 4 (𝑚𝐴)2.  \n",
    "#### What is the probability that a current measurement will exceed 13 𝑚𝐴? What is the probability that a current measurement is between 9 and 11mA? Determine the current measurement which has a probability of 0.98. "
   ]
  },
  {
   "cell_type": "code",
   "execution_count": 87,
   "metadata": {},
   "outputs": [
    {
     "name": "stdout",
     "output_type": "stream",
     "text": [
      "The probability of current measurement will exceed 13 𝑚𝐴 is:  0.06680720126885809\n",
      "The probability of current measurement is between 9 and 11 𝑚𝐴 is:  0.38292492254802624\n",
      "The current mesasurements for 98% probability is:  14.107497821263646\n"
     ]
    }
   ],
   "source": [
    "import scipy.stats\n",
    "miu = 10\n",
    "sig = 2 # as variance = 4\n",
    "# P(x > 13) ?\n",
    "# 1 - P(x<=13)\n",
    "\n",
    "# To find the probability that the variable has a value LESS than or equal, we have to use\n",
    "# CDF cumulative Density Function\n",
    "P_greater_13 = (1- scipy.stats.norm.cdf(13,10,2))\n",
    "\n",
    "print(\"The probability of current measurement will exceed 13 𝑚𝐴 is: \" , P_greater_13)\n",
    "# print(P_greater_13)\n",
    "\n",
    "# P(9<x<11)\n",
    "P_btwn_9_n_11 = (scipy.stats.norm.cdf(11,10,2) - scipy.stats.norm.cdf(9,10,2))\n",
    "\n",
    "print(\"The probability of current measurement is between 9 and 11 𝑚𝐴 is: \", P_btwn_9_n_11)\n",
    "\n",
    "#To find the variate for which the probability is given, PPF Percent Point Function is used\n",
    "#value which needed to provide a 98% probability \n",
    "\n",
    "P_98_percnt = scipy.stats.norm.ppf(0.98,10,2)\n",
    "\n",
    "print(\"The current mesasurements for 98% probability is: \", P_98_percnt)"
   ]
  },
  {
   "cell_type": "markdown",
   "metadata": {},
   "source": [
    "### Problem Statement 12: \n",
    " \n",
    "#### The shaft in a piston has its diameter normally distributed with a mean of 0.2508 inch and a standard deviation of 0.0005 inch. The specifications of the shaft are 0.2500 ∓ 0.0015 inch. What proportion of shafts are in sync with the specifications? If the process is centered so that the mean is equal to the target value of 0.2500, what proportion of shafts conform to the new specifications? What is your conclusion from this experiment? "
   ]
  },
  {
   "cell_type": "code",
   "execution_count": 59,
   "metadata": {},
   "outputs": [],
   "source": [
    "miu = 0.2508\n",
    "sig = 0.0005"
   ]
  },
  {
   "cell_type": "code",
   "execution_count": 60,
   "metadata": {},
   "outputs": [
    {
     "name": "stdout",
     "output_type": "stream",
     "text": [
      "-4.6000000000000485 1.3999999999999568\n"
     ]
    }
   ],
   "source": [
    "# What proportion of shafts are in sync with the specifications?\n",
    "# Need to find out the probability of P(0.2500-0.0015 < X < 0.2500+0.0015)\n",
    "# P(0.2485 < X < 0.2515) = P((0.2485-miu)/sig < Z < (0.2515-miu)/sig)\n",
    "\n",
    "z1 = (0.2485-miu)/sig\n",
    "z2 = (0.2515-miu)/sig\n",
    "print(z1, z2)\n"
   ]
  },
  {
   "cell_type": "code",
   "execution_count": 65,
   "metadata": {},
   "outputs": [
    {
     "name": "stdout",
     "output_type": "stream",
     "text": [
      "Calculated probability is:  0.9192262545168466\n"
     ]
    }
   ],
   "source": [
    "import scipy.stats\n",
    "\n",
    "# now need to find out the probability of Z score when z1 < Z < z2\n",
    "# -4.6000 < Z < 1.3999\n",
    "P_Val_Z = (norm.cdf(1.3999) - norm.cdf(-4.6000))\n",
    "print('Calculated probability is: ', P_Val_Z)"
   ]
  },
  {
   "cell_type": "code",
   "execution_count": 66,
   "metadata": {},
   "outputs": [],
   "source": [
    "# If the process is centered so that the mean is equal to the target value of 0.2500, \n",
    "# what proportion of shafts conform to the new specifications?\n",
    "miu1 = 0.2500\n",
    "sig1 = 0.0005"
   ]
  },
  {
   "cell_type": "code",
   "execution_count": 67,
   "metadata": {},
   "outputs": [
    {
     "name": "stdout",
     "output_type": "stream",
     "text": [
      "-3.0000000000000027 3.0000000000000027\n"
     ]
    }
   ],
   "source": [
    "# Here need to find out the probability of P(0.2500-0.0015 < X < 0.2500+0.0015)\n",
    "# P(0.2485 < X < 0.2515) = P((0.2485-miu1)/sig1 < Z < (0.2515-miu1)/sig1)\n",
    "\n",
    "z3 = (0.2485-miu1)/sig1\n",
    "z4 = (0.2515-miu1)/sig1\n",
    "print(z3, z4)"
   ]
  },
  {
   "cell_type": "code",
   "execution_count": 70,
   "metadata": {},
   "outputs": [
    {
     "name": "stdout",
     "output_type": "stream",
     "text": [
      "Calculated probability is:  0.9973002039367398\n"
     ]
    }
   ],
   "source": [
    "# now need to find out the probability of Z score when z3 < Z < z4\n",
    "# -3.0000000000000027 < Z < 3.0000000000000027\n",
    "\n",
    "P_Val_Z1 = (norm.cdf(3.0000000000000027) - norm.cdf(-3.0000000000000027))\n",
    "print('Calculated probability is: ', P_Val_Z1)"
   ]
  },
  {
   "cell_type": "markdown",
   "metadata": {},
   "source": [
    "#### What is your conclusion from this experiment? \n",
    "\n",
    "<br>\n",
    "\n",
    "<font color='green'>\n",
    "The probability would be increased from 91.92% to 99.73%\n",
    "</font>"
   ]
  },
  {
   "cell_type": "code",
   "execution_count": null,
   "metadata": {},
   "outputs": [],
   "source": []
  }
 ],
 "metadata": {
  "kernelspec": {
   "display_name": "Python 3",
   "language": "python",
   "name": "python3"
  },
  "language_info": {
   "codemirror_mode": {
    "name": "ipython",
    "version": 3
   },
   "file_extension": ".py",
   "mimetype": "text/x-python",
   "name": "python",
   "nbconvert_exporter": "python",
   "pygments_lexer": "ipython3",
   "version": "3.7.3"
  }
 },
 "nbformat": 4,
 "nbformat_minor": 2
}
