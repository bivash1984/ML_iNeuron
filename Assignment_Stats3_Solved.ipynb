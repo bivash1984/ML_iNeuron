{
 "cells": [
  {
   "cell_type": "markdown",
   "metadata": {},
   "source": [
    "### Problem Statement 1: \n",
    " \n",
    "Blood glucose levels for obese patients have a mean of 100 with a standard deviation of  15. A researcher thinks that a diet high in raw cornstarch will have a positive effect on blood glucose levels. A sample of 36 patients who have tried the raw cornstarch diet have a mean glucose level of 108. Test the hypothesis that the raw cornstarch had an effect or not. "
   ]
  },
  {
   "cell_type": "code",
   "execution_count": 1,
   "metadata": {},
   "outputs": [
    {
     "name": "stdout",
     "output_type": "stream",
     "text": [
      "The computed value of Z is:  3.2\n"
     ]
    }
   ],
   "source": [
    "import math\n",
    "pMean = 100 # populatin mean\n",
    "pStd = 15 # population standard deviation\n",
    "size_Sample = 36 # sample size\n",
    "sMean = 108 # sample mean\n",
    "\n",
    "# Hypothesis: \n",
    "# H0: 𝜇 = 100, # null hypothesis , no effect\n",
    "# H1: 𝜇 ≠ 100, # alternate hypothesis, yes have effect\n",
    "# This will be a two-tailed test\n",
    "\n",
    "SE = (pStd)/math.sqrt(size_Sample) # Standard error\n",
    "    \n",
    "def Z_test(sMean, pMean, SE):  # Z test calculation\n",
    "    Z_val = (sMean - pMean) / SE\n",
    "    return Z_val\n",
    "\n",
    "val = Z_test(sMean, pMean, SE)\n",
    "print('The computed value of Z is: ', val)"
   ]
  },
  {
   "cell_type": "code",
   "execution_count": 2,
   "metadata": {},
   "outputs": [
    {
     "name": "stdout",
     "output_type": "stream",
     "text": [
      "The critical value for Z is:  1.959963984540054\n",
      "0.975\n"
     ]
    }
   ],
   "source": [
    "import scipy\n",
    "from scipy import stats\n",
    "from scipy.stats import norm\n",
    "\n",
    "# Now we need to find out the critical value for significance level 5% = 0.05 let say\n",
    "# So, Alpha = 0.05\n",
    "# As two-tailed test then, Alpha/2 = 0.025\n",
    "# probability = 1 - alpha/2 = 1-0.025 = 0.975\n",
    "# Gaussian Percent Point Function (ppf)\n",
    "# define probability\n",
    "p = 0.975\n",
    "# retrieve value <= probability\n",
    "value = norm.ppf(p) # returns observaton values for provided probability which is less than or equal to the provided probability\n",
    "print('The critical value for Z is: ', value)\n",
    "# confirm with cdf\n",
    "p = norm.cdf(value) # Returns the probability for an observation equal to or lesser than a specific value from the distribution\n",
    "print(p)"
   ]
  },
  {
   "cell_type": "markdown",
   "metadata": {},
   "source": [
    "<font color='blue'>\n",
    "    \n",
    "The criticial value of Z is: Z = +1.96 and -1.96 at 5% level of significance for two-tailed test. <br>\n",
    "Our computed value of Z is: Z = 3.2. <br>\n",
    "\n",
    "So, computed value falls in rejection region. Hence we reject the Null Hypothesis. <br>\n",
    "Hence the raw cornstarch had an effect on blood glucose levels for obese patients.\n",
    "\n",
    "    \n",
    "</font>"
   ]
  },
  {
   "cell_type": "markdown",
   "metadata": {},
   "source": [
    "### Problem Statement 2: \n",
    " \n",
    "In one state, 52% of the voters are Republicans, and 48% are Democrats. In a second state, 47% of the voters are Republicans, and 53% are Democrats. Suppose a simple random sample of 100 voters are surveyed from each state. \n",
    " \n",
    "What is the probability that the survey will show a greater percentage of Republican voters in the second state than in the first state? "
   ]
  },
  {
   "cell_type": "code",
   "execution_count": 3,
   "metadata": {},
   "outputs": [],
   "source": [
    "P1 = 0.52 # 1st state republic voter\n",
    "P2 = 0.47 # 2nd state republic voter\n",
    "\n",
    "n1 = 100 # 1st state number of sampled voter\n",
    "n2 = 100 # 2nd state number of sampled voter\n",
    "\n",
    "q1 = 0.52 # 1st state republice voter in the sample\n",
    "q2 = 0.47 # 2nd state republice voter in the sample\n",
    "\n",
    "# meanDifference_sampleProportion = q1 - q2 = P1 - P2 = 0.52 - 0.47 = 0.05\n",
    "\n",
    "𝜇 = 0.05 # sample mean\n"
   ]
  },
  {
   "cell_type": "code",
   "execution_count": 4,
   "metadata": {},
   "outputs": [
    {
     "name": "stdout",
     "output_type": "stream",
     "text": [
      "Calculated standard deviation is:  0.07061869440877536\n"
     ]
    }
   ],
   "source": [
    "import math\n",
    "# Calculate standard deviation\n",
    "def std_dev(P1, n1, P2, n2):\n",
    "    𝜎 = math.sqrt(((P1/n1)*(1-P1)) + (P2/n2)*(1-P2))\n",
    "    return 𝜎\n",
    "stdVal = std_dev(P1, n1, P2, n2)\n",
    "print('Calculated standard deviation is: ', stdVal)"
   ]
  },
  {
   "cell_type": "code",
   "execution_count": 5,
   "metadata": {},
   "outputs": [
    {
     "name": "stdout",
     "output_type": "stream",
     "text": [
      "Calculated Z-score is:  -0.7080278164104207\n"
     ]
    }
   ],
   "source": [
    "# In this problem we need to find out the probability that q1 is less than q2.\n",
    "# This is euqavalent to find out the probability that q1-q2 is less than zero.\n",
    "# So, we need to find out Z-score for the random variable q1-q2 to find out the required probaibility.\n",
    "\n",
    "# finding out Z-score\n",
    "x = 0\n",
    "𝜇 = 0.05\n",
    "𝜎 = stdVal\n",
    "z_score = (x-𝜇) / 𝜎\n",
    "\n",
    "print('Calculated Z-score is: ', z_score)\n"
   ]
  },
  {
   "cell_type": "code",
   "execution_count": 6,
   "metadata": {},
   "outputs": [
    {
     "name": "stdout",
     "output_type": "stream",
     "text": [
      "So, the probability that the survey will show a greater percentage of Republican voters in the 2nd state than in the 1st state is:  0.23947262873987984\n"
     ]
    }
   ],
   "source": [
    "# Now will find out the probability of a z-score being -0.708 or less.\n",
    "# P(Z <= 0.708)\n",
    "\n",
    "z = 0.708\n",
    "value1 = 1 - norm.cdf(z) # returns %value of the test takers below the specified number\n",
    "print('So, the probability that the survey will show a greater percentage of Republican voters in the 2nd state than in the 1st state is: ', value1)\n"
   ]
  },
  {
   "cell_type": "markdown",
   "metadata": {},
   "source": [
    "<font color='blue'>\n",
    "\n",
    "### Conclusions: <br>\n",
    "So, the probability that the survey will show a greater percentage of Republican voters in the 2nd state than in the 1st state is:  0.24\n",
    "\n",
    "</font>"
   ]
  },
  {
   "cell_type": "markdown",
   "metadata": {},
   "source": [
    "### Problem Statement 3: \n",
    " \n",
    "You take the SAT and score 1100. The mean score for the SAT is 1026 and the standard deviation is 209. How well did you score on the test compared to the average test taker? "
   ]
  },
  {
   "cell_type": "code",
   "execution_count": 7,
   "metadata": {},
   "outputs": [
    {
     "name": "stdout",
     "output_type": "stream",
     "text": [
      "So, Z Score 0.35406698564593303 represents my score was 0.35406698564593303 standard deviation above the mean\n"
     ]
    }
   ],
   "source": [
    "x = 1100 # data point\n",
    "𝜇 = 1026 # mean\n",
    "𝜎 = 209 # standard deviation\n",
    "\n",
    "def Z_score(x, 𝜇, 𝜎):\n",
    "    \n",
    "    z = (x - 𝜇)/ 𝜎\n",
    "    \n",
    "    return z\n",
    "\n",
    "zScore = Z_score(x, 𝜇, 𝜎)\n",
    "\n",
    "print('So, Z Score {} represents my score was {} standard deviation above the mean'.format(zScore, zScore) )"
   ]
  },
  {
   "cell_type": "code",
   "execution_count": 8,
   "metadata": {},
   "outputs": [
    {
     "name": "stdout",
     "output_type": "stream",
     "text": [
      "So, percentage of the test takers scored below me:  63.83305583821042\n"
     ]
    }
   ],
   "source": [
    "import scipy\n",
    "from scipy import stats\n",
    "from scipy.stats import norm\n",
    "\n",
    "# Now will check what percentange of test takers scored below me\n",
    "# P(X<1100) = P(z<0.354)\n",
    "\n",
    "z = 0.354\n",
    "value = norm.cdf(z) # returns %value of the test takers below the specified number\n",
    "print('So, percentage of the test takers scored below me: ', value*100)\n",
    "\n"
   ]
  },
  {
   "cell_type": "code",
   "execution_count": 9,
   "metadata": {},
   "outputs": [
    {
     "name": "stdout",
     "output_type": "stream",
     "text": [
      "So, percentage of the test takers scored below me:  36.16694416178958\n"
     ]
    }
   ],
   "source": [
    "# Now will check what percentange of test takers scored above me\n",
    "# P(X>1100) = P(z>0.354) = 1 - P(z<0.354)\n",
    "\n",
    "z = 0.354\n",
    "value1 = 1 - norm.cdf(z) # returns %value of the test takers below the specified number\n",
    "print('So, percentage of the test takers scored below me: ', value1*100)\n"
   ]
  },
  {
   "cell_type": "markdown",
   "metadata": {},
   "source": [
    "<font color='blue'>\n",
    "\n",
    "### Conclusions: <br>\n",
    "My score was 0.354 standard deviaton above the mean. <br>\n",
    "63.83% of the test takers scored below me. <br>\n",
    "36.17% of the test takers scored above me. <br>\n",
    "\n",
    "</font>"
   ]
  },
  {
   "cell_type": "code",
   "execution_count": null,
   "metadata": {},
   "outputs": [],
   "source": []
  }
 ],
 "metadata": {
  "kernelspec": {
   "display_name": "Python 3",
   "language": "python",
   "name": "python3"
  },
  "language_info": {
   "codemirror_mode": {
    "name": "ipython",
    "version": 3
   },
   "file_extension": ".py",
   "mimetype": "text/x-python",
   "name": "python",
   "nbconvert_exporter": "python",
   "pygments_lexer": "ipython3",
   "version": "3.7.3"
  }
 },
 "nbformat": 4,
 "nbformat_minor": 4
}
